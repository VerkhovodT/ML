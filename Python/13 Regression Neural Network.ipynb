{
 "cells": [
  {
   "cell_type": "code",
   "execution_count": 36,
   "metadata": {},
   "outputs": [],
   "source": [
    "# Regression Neural Network"
   ]
  },
  {
   "cell_type": "code",
   "execution_count": 37,
   "metadata": {},
   "outputs": [],
   "source": [
    "# Importing the libraries\n",
    "import numpy as np\n",
    "import matplotlib.pyplot as plt\n",
    "import pandas as pd"
   ]
  },
  {
   "cell_type": "code",
   "execution_count": 38,
   "metadata": {},
   "outputs": [],
   "source": [
    "# Importing prepared dataset\n",
    "import pickle\n",
    "input = open('data_reg.pkl', 'rb')\n",
    "obj = pickle.load(input)\n",
    "input.close()\n",
    "X_train = obj[\"X_train\"]\n",
    "X_test = obj[\"X_test\"]\n",
    "y_train = obj[\"y_train\"]\n",
    "y_test = obj[\"y_test\"]"
   ]
  },
  {
   "cell_type": "code",
   "execution_count": 39,
   "metadata": {},
   "outputs": [],
   "source": [
    "# Feature Scaling\n",
    "from sklearn.preprocessing import StandardScaler\n",
    "sc_X = StandardScaler().fit(X_train)\n",
    "X_train = sc_X.transform(X_train)\n",
    "X_test = sc_X.transform(X_test)\n",
    "sc_y = StandardScaler().fit(np.array([[i] for i in y_train]))\n",
    "y_train = sc_y.transform(np.array([[i] for i in y_train]))\n",
    "y_test = sc_y.transform(np.array([[i] for i in y_test]))"
   ]
  },
  {
   "cell_type": "code",
   "execution_count": 40,
   "metadata": {},
   "outputs": [],
   "source": [
    "# Install Tensorflow\n",
    "# Install Keras\n",
    "# Importing the Keras libraries and packages\n",
    "import keras\n",
    "from keras.models import Sequential\n",
    "from keras.layers import Dense"
   ]
  },
  {
   "cell_type": "code",
   "execution_count": 41,
   "metadata": {},
   "outputs": [
    {
     "name": "stderr",
     "output_type": "stream",
     "text": [
      "C:\\Users\\kater\\anaconda3\\lib\\site-packages\\ipykernel_launcher.py:5: UserWarning: Update your `Dense` call to the Keras 2 API: `Dense(activation=\"tanh\", input_dim=3, units=6)`\n",
      "  \"\"\"\n",
      "C:\\Users\\kater\\anaconda3\\lib\\site-packages\\ipykernel_launcher.py:8: UserWarning: Update your `Dense` call to the Keras 2 API: `Dense(activation=\"tanh\", units=4)`\n",
      "  \n",
      "C:\\Users\\kater\\anaconda3\\lib\\site-packages\\ipykernel_launcher.py:11: UserWarning: Update your `Dense` call to the Keras 2 API: `Dense(activation=\"linear\", units=1)`\n",
      "  # This is added back by InteractiveShellApp.init_path()\n"
     ]
    }
   ],
   "source": [
    "# Initialising the ANN\n",
    "rnn = Sequential()\n",
    "\n",
    "# Adding the input layer and the first hidden layer\n",
    "rnn.add(Dense(output_dim = 6, activation = 'tanh', input_dim = 3))\n",
    "\n",
    "# Adding the second hidden layer\n",
    "rnn.add(Dense(output_dim = 4, activation = 'tanh'))\n",
    "\n",
    "# Adding the output layer\n",
    "rnn.add(Dense(output_dim = 1, activation = 'linear'))\n",
    "\n",
    "# Compiling the ANN\n",
    "rnn.compile(optimizer='adam', loss='mean_squared_error', metrics = ['accuracy'])"
   ]
  },
  {
   "cell_type": "code",
   "execution_count": 42,
   "metadata": {},
   "outputs": [
    {
     "name": "stderr",
     "output_type": "stream",
     "text": [
      "C:\\Users\\kater\\anaconda3\\lib\\site-packages\\ipykernel_launcher.py:2: UserWarning: The `nb_epoch` argument in `fit` has been renamed `epochs`.\n",
      "  \n"
     ]
    },
    {
     "name": "stdout",
     "output_type": "stream",
     "text": [
      "Epoch 1/100\n",
      "173/173 [==============================] - 0s 1ms/step - loss: 0.8175 - accuracy: 0.0000e+00\n",
      "Epoch 2/100\n",
      "173/173 [==============================] - 0s 196us/step - loss: 0.7220 - accuracy: 0.0000e+00\n",
      "Epoch 3/100\n",
      "173/173 [==============================] - 0s 237us/step - loss: 0.6512 - accuracy: 0.0000e+00\n",
      "Epoch 4/100\n",
      "173/173 [==============================] - 0s 231us/step - loss: 0.5872 - accuracy: 0.0000e+00\n",
      "Epoch 5/100\n",
      "173/173 [==============================] - 0s 202us/step - loss: 0.5418 - accuracy: 0.0000e+00\n",
      "Epoch 6/100\n",
      "173/173 [==============================] - 0s 220us/step - loss: 0.5030 - accuracy: 0.0000e+00\n",
      "Epoch 7/100\n",
      "173/173 [==============================] - 0s 208us/step - loss: 0.4717 - accuracy: 0.0000e+00\n",
      "Epoch 8/100\n",
      "173/173 [==============================] - 0s 243us/step - loss: 0.4443 - accuracy: 0.0000e+00\n",
      "Epoch 9/100\n",
      "173/173 [==============================] - 0s 220us/step - loss: 0.4217 - accuracy: 0.0000e+00\n",
      "Epoch 10/100\n",
      "173/173 [==============================] - 0s 260us/step - loss: 0.4007 - accuracy: 0.0000e+00\n",
      "Epoch 11/100\n",
      "173/173 [==============================] - 0s 277us/step - loss: 0.3821 - accuracy: 0.0000e+00\n",
      "Epoch 12/100\n",
      "173/173 [==============================] - 0s 427us/step - loss: 0.3646 - accuracy: 0.0000e+00\n",
      "Epoch 13/100\n",
      "173/173 [==============================] - 0s 375us/step - loss: 0.3495 - accuracy: 0.0000e+00\n",
      "Epoch 14/100\n",
      "173/173 [==============================] - 0s 295us/step - loss: 0.3357 - accuracy: 0.0000e+00\n",
      "Epoch 15/100\n",
      "173/173 [==============================] - 0s 295us/step - loss: 0.3239 - accuracy: 0.0000e+00\n",
      "Epoch 16/100\n",
      "173/173 [==============================] - 0s 243us/step - loss: 0.3121 - accuracy: 0.0000e+00\n",
      "Epoch 17/100\n",
      "173/173 [==============================] - 0s 300us/step - loss: 0.3027 - accuracy: 0.0000e+00\n",
      "Epoch 18/100\n",
      "173/173 [==============================] - 0s 248us/step - loss: 0.2954 - accuracy: 0.0000e+00\n",
      "Epoch 19/100\n",
      "173/173 [==============================] - 0s 271us/step - loss: 0.2894 - accuracy: 0.0000e+00\n",
      "Epoch 20/100\n",
      "173/173 [==============================] - 0s 248us/step - loss: 0.2834 - accuracy: 0.0000e+00\n",
      "Epoch 21/100\n",
      "173/173 [==============================] - 0s 254us/step - loss: 0.2780 - accuracy: 0.0000e+00\n",
      "Epoch 22/100\n",
      "173/173 [==============================] - 0s 260us/step - loss: 0.2727 - accuracy: 0.0000e+00\n",
      "Epoch 23/100\n",
      "173/173 [==============================] - 0s 231us/step - loss: 0.2675 - accuracy: 0.0000e+00\n",
      "Epoch 24/100\n",
      "173/173 [==============================] - 0s 248us/step - loss: 0.2654 - accuracy: 0.0000e+00\n",
      "Epoch 25/100\n",
      "173/173 [==============================] - 0s 277us/step - loss: 0.2610 - accuracy: 0.0000e+00\n",
      "Epoch 26/100\n",
      "173/173 [==============================] - 0s 243us/step - loss: 0.2583 - accuracy: 0.0000e+00\n",
      "Epoch 27/100\n",
      "173/173 [==============================] - 0s 266us/step - loss: 0.2545 - accuracy: 0.0000e+00\n",
      "Epoch 28/100\n",
      "173/173 [==============================] - 0s 254us/step - loss: 0.2517 - accuracy: 0.0000e+00\n",
      "Epoch 29/100\n",
      "173/173 [==============================] - 0s 243us/step - loss: 0.2502 - accuracy: 0.0000e+00\n",
      "Epoch 30/100\n",
      "173/173 [==============================] - 0s 306us/step - loss: 0.2466 - accuracy: 0.0000e+00\n",
      "Epoch 31/100\n",
      "173/173 [==============================] - 0s 283us/step - loss: 0.2435 - accuracy: 0.0000e+00\n",
      "Epoch 32/100\n",
      "173/173 [==============================] - 0s 283us/step - loss: 0.2423 - accuracy: 0.0000e+00\n",
      "Epoch 33/100\n",
      "173/173 [==============================] - 0s 306us/step - loss: 0.2392 - accuracy: 0.0000e+00\n",
      "Epoch 34/100\n",
      "173/173 [==============================] - 0s 381us/step - loss: 0.2382 - accuracy: 0.0000e+00\n",
      "Epoch 35/100\n",
      "173/173 [==============================] - 0s 277us/step - loss: 0.2358 - accuracy: 0.0000e+00\n",
      "Epoch 36/100\n",
      "173/173 [==============================] - 0s 306us/step - loss: 0.2375 - accuracy: 0.0000e+00\n",
      "Epoch 37/100\n",
      "173/173 [==============================] - 0s 295us/step - loss: 0.2327 - accuracy: 0.0000e+00\n",
      "Epoch 38/100\n",
      "173/173 [==============================] - 0s 347us/step - loss: 0.2304 - accuracy: 0.0000e+00\n",
      "Epoch 39/100\n",
      "173/173 [==============================] - 0s 335us/step - loss: 0.2285 - accuracy: 0.0000e+00\n",
      "Epoch 40/100\n",
      "173/173 [==============================] - 0s 266us/step - loss: 0.2270 - accuracy: 0.0000e+00\n",
      "Epoch 41/100\n",
      "173/173 [==============================] - 0s 283us/step - loss: 0.2259 - accuracy: 0.0000e+00\n",
      "Epoch 42/100\n",
      "173/173 [==============================] - 0s 283us/step - loss: 0.2254 - accuracy: 0.0000e+00\n",
      "Epoch 43/100\n",
      "173/173 [==============================] - 0s 254us/step - loss: 0.2240 - accuracy: 0.0000e+00\n",
      "Epoch 44/100\n",
      "173/173 [==============================] - 0s 260us/step - loss: 0.2223 - accuracy: 0.0000e+00\n",
      "Epoch 45/100\n",
      "173/173 [==============================] - 0s 266us/step - loss: 0.2213 - accuracy: 0.0000e+00\n",
      "Epoch 46/100\n",
      "173/173 [==============================] - 0s 260us/step - loss: 0.2202 - accuracy: 0.0000e+00\n",
      "Epoch 47/100\n",
      "173/173 [==============================] - 0s 260us/step - loss: 0.2203 - accuracy: 0.0000e+00\n",
      "Epoch 48/100\n",
      "173/173 [==============================] - 0s 272us/step - loss: 0.2187 - accuracy: 0.0000e+00\n",
      "Epoch 49/100\n",
      "173/173 [==============================] - 0s 248us/step - loss: 0.2161 - accuracy: 0.0000e+00\n",
      "Epoch 50/100\n",
      "173/173 [==============================] - 0s 254us/step - loss: 0.2153 - accuracy: 0.0000e+00\n",
      "Epoch 51/100\n",
      "173/173 [==============================] - 0s 277us/step - loss: 0.2136 - accuracy: 0.0000e+00\n",
      "Epoch 52/100\n",
      "173/173 [==============================] - 0s 266us/step - loss: 0.2135 - accuracy: 0.0000e+00\n",
      "Epoch 53/100\n",
      "173/173 [==============================] - 0s 243us/step - loss: 0.2106 - accuracy: 0.0000e+00\n",
      "Epoch 54/100\n",
      "173/173 [==============================] - 0s 237us/step - loss: 0.2126 - accuracy: 0.0000e+00\n",
      "Epoch 55/100\n",
      "173/173 [==============================] - 0s 225us/step - loss: 0.2085 - accuracy: 0.0000e+00\n",
      "Epoch 56/100\n",
      "173/173 [==============================] - 0s 231us/step - loss: 0.2085 - accuracy: 0.0000e+00\n",
      "Epoch 57/100\n",
      "173/173 [==============================] - 0s 248us/step - loss: 0.2069 - accuracy: 0.0000e+00\n",
      "Epoch 58/100\n",
      "173/173 [==============================] - 0s 231us/step - loss: 0.2068 - accuracy: 0.0000e+00\n",
      "Epoch 59/100\n",
      "173/173 [==============================] - 0s 214us/step - loss: 0.2046 - accuracy: 0.0000e+00\n",
      "Epoch 60/100\n",
      "173/173 [==============================] - 0s 260us/step - loss: 0.2047 - accuracy: 0.0000e+00\n",
      "Epoch 61/100\n",
      "173/173 [==============================] - 0s 254us/step - loss: 0.2030 - accuracy: 0.0000e+00\n",
      "Epoch 62/100\n",
      "173/173 [==============================] - 0s 231us/step - loss: 0.2018 - accuracy: 0.0000e+00\n",
      "Epoch 63/100\n",
      "173/173 [==============================] - 0s 208us/step - loss: 0.2007 - accuracy: 0.0000e+00\n",
      "Epoch 64/100\n",
      "173/173 [==============================] - 0s 191us/step - loss: 0.2016 - accuracy: 0.0000e+00\n",
      "Epoch 65/100\n",
      "173/173 [==============================] - 0s 220us/step - loss: 0.1992 - accuracy: 0.0000e+00\n",
      "Epoch 66/100\n",
      "173/173 [==============================] - 0s 202us/step - loss: 0.2002 - accuracy: 0.0000e+00\n",
      "Epoch 67/100\n",
      "173/173 [==============================] - 0s 237us/step - loss: 0.1986 - accuracy: 0.0000e+00\n",
      "Epoch 68/100\n",
      "173/173 [==============================] - 0s 202us/step - loss: 0.1959 - accuracy: 0.0000e+00\n",
      "Epoch 69/100\n",
      "173/173 [==============================] - 0s 214us/step - loss: 0.1960 - accuracy: 0.0000e+00\n",
      "Epoch 70/100\n",
      "173/173 [==============================] - 0s 219us/step - loss: 0.1943 - accuracy: 0.0000e+00\n",
      "Epoch 71/100\n",
      "173/173 [==============================] - 0s 260us/step - loss: 0.1934 - accuracy: 0.0000e+00\n",
      "Epoch 72/100\n",
      "173/173 [==============================] - 0s 225us/step - loss: 0.1955 - accuracy: 0.0000e+00\n",
      "Epoch 73/100\n",
      "173/173 [==============================] - 0s 208us/step - loss: 0.1929 - accuracy: 0.0000e+00\n",
      "Epoch 74/100\n",
      "173/173 [==============================] - 0s 220us/step - loss: 0.1927 - accuracy: 0.0000e+00\n",
      "Epoch 75/100\n",
      "173/173 [==============================] - 0s 191us/step - loss: 0.1923 - accuracy: 0.0000e+00\n",
      "Epoch 76/100\n",
      "173/173 [==============================] - 0s 191us/step - loss: 0.1895 - accuracy: 0.0000e+00\n"
     ]
    },
    {
     "name": "stdout",
     "output_type": "stream",
     "text": [
      "Epoch 77/100\n",
      "173/173 [==============================] - 0s 202us/step - loss: 0.1893 - accuracy: 0.0000e+00\n",
      "Epoch 78/100\n",
      "173/173 [==============================] - 0s 179us/step - loss: 0.1892 - accuracy: 0.0000e+00\n",
      "Epoch 79/100\n",
      "173/173 [==============================] - 0s 202us/step - loss: 0.1892 - accuracy: 0.0000e+00\n",
      "Epoch 80/100\n",
      "173/173 [==============================] - 0s 173us/step - loss: 0.1867 - accuracy: 0.0000e+00\n",
      "Epoch 81/100\n",
      "173/173 [==============================] - 0s 191us/step - loss: 0.1857 - accuracy: 0.0000e+00\n",
      "Epoch 82/100\n",
      "173/173 [==============================] - 0s 196us/step - loss: 0.1846 - accuracy: 0.0000e+00\n",
      "Epoch 83/100\n",
      "173/173 [==============================] - 0s 196us/step - loss: 0.1869 - accuracy: 0.0000e+00\n",
      "Epoch 84/100\n",
      "173/173 [==============================] - 0s 208us/step - loss: 0.1840 - accuracy: 0.0000e+00\n",
      "Epoch 85/100\n",
      "173/173 [==============================] - 0s 208us/step - loss: 0.1848 - accuracy: 0.0000e+00\n",
      "Epoch 86/100\n",
      "173/173 [==============================] - 0s 254us/step - loss: 0.1819 - accuracy: 0.0000e+00\n",
      "Epoch 87/100\n",
      "173/173 [==============================] - 0s 225us/step - loss: 0.1826 - accuracy: 0.0000e+00\n",
      "Epoch 88/100\n",
      "173/173 [==============================] - 0s 231us/step - loss: 0.1808 - accuracy: 0.0000e+00\n",
      "Epoch 89/100\n",
      "173/173 [==============================] - 0s 237us/step - loss: 0.1815 - accuracy: 0.0000e+00\n",
      "Epoch 90/100\n",
      "173/173 [==============================] - 0s 185us/step - loss: 0.1802 - accuracy: 0.0000e+00\n",
      "Epoch 91/100\n",
      "173/173 [==============================] - 0s 214us/step - loss: 0.1787 - accuracy: 0.0000e+00\n",
      "Epoch 92/100\n",
      "173/173 [==============================] - 0s 208us/step - loss: 0.1806 - accuracy: 0.0000e+00\n",
      "Epoch 93/100\n",
      "173/173 [==============================] - 0s 208us/step - loss: 0.1778 - accuracy: 0.0000e+00\n",
      "Epoch 94/100\n",
      "173/173 [==============================] - 0s 214us/step - loss: 0.1791 - accuracy: 0.0000e+00\n",
      "Epoch 95/100\n",
      "173/173 [==============================] - 0s 220us/step - loss: 0.1757 - accuracy: 0.0000e+00\n",
      "Epoch 96/100\n",
      "173/173 [==============================] - 0s 214us/step - loss: 0.1789 - accuracy: 0.0000e+00\n",
      "Epoch 97/100\n",
      "173/173 [==============================] - 0s 214us/step - loss: 0.1748 - accuracy: 0.0000e+00\n",
      "Epoch 98/100\n",
      "173/173 [==============================] - 0s 231us/step - loss: 0.1743 - accuracy: 0.0000e+00\n",
      "Epoch 99/100\n",
      "173/173 [==============================] - 0s 225us/step - loss: 0.1743 - accuracy: 0.0000e+00\n",
      "Epoch 100/100\n",
      "173/173 [==============================] - 0s 225us/step - loss: 0.1743 - accuracy: 0.0000e+00\n"
     ]
    },
    {
     "data": {
      "text/plain": [
       "<keras.callbacks.callbacks.History at 0x150f3b42188>"
      ]
     },
     "execution_count": 42,
     "metadata": {},
     "output_type": "execute_result"
    }
   ],
   "source": [
    "# Fitting the ANN to the Training set\n",
    "rnn.fit(X_train, y_train, batch_size = 10, nb_epoch = 100)"
   ]
  },
  {
   "cell_type": "code",
   "execution_count": 43,
   "metadata": {},
   "outputs": [],
   "source": [
    "# Predicting the Test set results\n",
    "y_pred = rnn.predict(X_test)"
   ]
  },
  {
   "cell_type": "code",
   "execution_count": 44,
   "metadata": {},
   "outputs": [],
   "source": [
    "# Inversing scaling\n",
    "#yhat = pd.DataFrame(yhat, columns=['yhat']) \n",
    "from sklearn.preprocessing import StandardScaler\n",
    "y_hat = sc_y.inverse_transform(y_pred)\n",
    "y_test = sc_y.inverse_transform(y_test)\n",
    "X_test = sc_X.inverse_transform(X_test)"
   ]
  },
  {
   "cell_type": "code",
   "execution_count": 45,
   "metadata": {},
   "outputs": [
    {
     "data": {
      "text/plain": [
       "941752641.4443623"
      ]
     },
     "execution_count": 45,
     "metadata": {},
     "output_type": "execute_result"
    }
   ],
   "source": [
    "# Mean squared error\n",
    "from sklearn.metrics import mean_squared_error\n",
    "mean_squared_error(y_test, y_hat)"
   ]
  },
  {
   "cell_type": "code",
   "execution_count": 46,
   "metadata": {},
   "outputs": [
    {
     "data": {
      "image/png": "[encoded data removed]",
      "text/plain": [
       "<Figure size 432x288 with 1 Axes>"
      ]
     },
     "metadata": {
      "needs_background": "light"
     },
     "output_type": "display_data"
    }
   ],
   "source": [
    "# Visualising the Test set results\n",
    "plt.scatter(X_test[:,2], y_test, color = 'red')\n",
    "plt.plot(X_test[:,2], y_hat, 'bo')\n",
    "plt.title('Price vs M2 (Test set)')\n",
    "plt.xlabel('M2')\n",
    "plt.ylabel('Price')\n",
    "plt.show()"
   ]
  }
 ],
 "metadata": {
  "kernelspec": {
   "display_name": "Python 3",
   "language": "python",
   "name": "python3"
  },
  "language_info": {
   "codemirror_mode": {
    "name": "ipython",
    "version": 3
   },
   "file_extension": ".py",
   "mimetype": "text/x-python",
   "name": "python",
   "nbconvert_exporter": "python",
   "pygments_lexer": "ipython3",
   "version": "3.7.6"
  }
 },
 "nbformat": 4,
 "nbformat_minor": 4
}
