{
 "cells": [
  {
   "cell_type": "code",
   "execution_count": null,
   "metadata": {
    "slideshow": {
     "slide_type": "slide"
    }
   },
   "outputs": [],
   "source": [
    "# Linear Regression"
   ]
  },
  {
   "cell_type": "code",
   "execution_count": 20,
   "metadata": {
    "slideshow": {
     "slide_type": "slide"
    }
   },
   "outputs": [],
   "source": [
    "# Importing the libraries\n",
    "import numpy as np\n",
    "import matplotlib.pyplot as plt\n",
    "import pandas as pd"
   ]
  },
  {
   "cell_type": "code",
   "execution_count": 21,
   "metadata": {
    "slideshow": {
     "slide_type": "slide"
    }
   },
   "outputs": [],
   "source": [
    "# Importing the dataset\n",
    "df = pd.read_csv('flats_prep.csv', sep=';')"
   ]
  },
  {
   "cell_type": "code",
   "execution_count": 3,
   "metadata": {},
   "outputs": [
    {
     "data": {
      "text/html": [
       "<div>\n",
       "<style scoped>\n",
       "    .dataframe tbody tr th:only-of-type {\n",
       "        vertical-align: middle;\n",
       "    }\n",
       "\n",
       "    .dataframe tbody tr th {\n",
       "        vertical-align: top;\n",
       "    }\n",
       "\n",
       "    .dataframe thead th {\n",
       "        text-align: right;\n",
       "    }\n",
       "</style>\n",
       "<table border=\"1\" class=\"dataframe\">\n",
       "  <thead>\n",
       "    <tr style=\"text-align: right;\">\n",
       "      <th></th>\n",
       "      <th>rooms</th>\n",
       "      <th>location</th>\n",
       "      <th>condition</th>\n",
       "      <th>m2</th>\n",
       "      <th>type</th>\n",
       "      <th>price</th>\n",
       "    </tr>\n",
       "  </thead>\n",
       "  <tbody>\n",
       "    <tr>\n",
       "      <th>0</th>\n",
       "      <td>2.0</td>\n",
       "      <td>1</td>\n",
       "      <td>0</td>\n",
       "      <td>50</td>\n",
       "      <td>1</td>\n",
       "      <td>35000.0</td>\n",
       "    </tr>\n",
       "    <tr>\n",
       "      <th>1</th>\n",
       "      <td>1.0</td>\n",
       "      <td>0</td>\n",
       "      <td>0</td>\n",
       "      <td>37</td>\n",
       "      <td>1</td>\n",
       "      <td>35000.0</td>\n",
       "    </tr>\n",
       "    <tr>\n",
       "      <th>2</th>\n",
       "      <td>3.0</td>\n",
       "      <td>1</td>\n",
       "      <td>0</td>\n",
       "      <td>67</td>\n",
       "      <td>1</td>\n",
       "      <td>65000.0</td>\n",
       "    </tr>\n",
       "    <tr>\n",
       "      <th>3</th>\n",
       "      <td>2.0</td>\n",
       "      <td>1</td>\n",
       "      <td>0</td>\n",
       "      <td>21</td>\n",
       "      <td>1</td>\n",
       "      <td>15000.0</td>\n",
       "    </tr>\n",
       "    <tr>\n",
       "      <th>4</th>\n",
       "      <td>1.0</td>\n",
       "      <td>1</td>\n",
       "      <td>0</td>\n",
       "      <td>82</td>\n",
       "      <td>0</td>\n",
       "      <td>60000.0</td>\n",
       "    </tr>\n",
       "    <tr>\n",
       "      <th>...</th>\n",
       "      <td>...</td>\n",
       "      <td>...</td>\n",
       "      <td>...</td>\n",
       "      <td>...</td>\n",
       "      <td>...</td>\n",
       "      <td>...</td>\n",
       "    </tr>\n",
       "    <tr>\n",
       "      <th>212</th>\n",
       "      <td>2.0</td>\n",
       "      <td>0</td>\n",
       "      <td>1</td>\n",
       "      <td>65</td>\n",
       "      <td>0</td>\n",
       "      <td>46407.0</td>\n",
       "    </tr>\n",
       "    <tr>\n",
       "      <th>213</th>\n",
       "      <td>3.0</td>\n",
       "      <td>0</td>\n",
       "      <td>1</td>\n",
       "      <td>84</td>\n",
       "      <td>0</td>\n",
       "      <td>57678.0</td>\n",
       "    </tr>\n",
       "    <tr>\n",
       "      <th>214</th>\n",
       "      <td>3.0</td>\n",
       "      <td>0</td>\n",
       "      <td>1</td>\n",
       "      <td>93</td>\n",
       "      <td>0</td>\n",
       "      <td>63513.0</td>\n",
       "    </tr>\n",
       "    <tr>\n",
       "      <th>215</th>\n",
       "      <td>2.0</td>\n",
       "      <td>0</td>\n",
       "      <td>1</td>\n",
       "      <td>72</td>\n",
       "      <td>0</td>\n",
       "      <td>51121.0</td>\n",
       "    </tr>\n",
       "    <tr>\n",
       "      <th>216</th>\n",
       "      <td>2.0</td>\n",
       "      <td>0</td>\n",
       "      <td>1</td>\n",
       "      <td>74</td>\n",
       "      <td>0</td>\n",
       "      <td>52821.0</td>\n",
       "    </tr>\n",
       "  </tbody>\n",
       "</table>\n",
       "<p>217 rows × 6 columns</p>\n",
       "</div>"
      ],
      "text/plain": [
       "     rooms  location  condition  m2  type    price\n",
       "0      2.0         1          0  50     1  35000.0\n",
       "1      1.0         0          0  37     1  35000.0\n",
       "2      3.0         1          0  67     1  65000.0\n",
       "3      2.0         1          0  21     1  15000.0\n",
       "4      1.0         1          0  82     0  60000.0\n",
       "..     ...       ...        ...  ..   ...      ...\n",
       "212    2.0         0          1  65     0  46407.0\n",
       "213    3.0         0          1  84     0  57678.0\n",
       "214    3.0         0          1  93     0  63513.0\n",
       "215    2.0         0          1  72     0  51121.0\n",
       "216    2.0         0          1  74     0  52821.0\n",
       "\n",
       "[217 rows x 6 columns]"
      ]
     },
     "execution_count": 3,
     "metadata": {},
     "output_type": "execute_result"
    }
   ],
   "source": [
    "df"
   ]
  },
  {
   "cell_type": "code",
   "execution_count": 4,
   "metadata": {
    "slideshow": {
     "slide_type": "slide"
    }
   },
   "outputs": [
    {
     "data": {
      "text/html": [
       "<div>\n",
       "<style scoped>\n",
       "    .dataframe tbody tr th:only-of-type {\n",
       "        vertical-align: middle;\n",
       "    }\n",
       "\n",
       "    .dataframe tbody tr th {\n",
       "        vertical-align: top;\n",
       "    }\n",
       "\n",
       "    .dataframe thead th {\n",
       "        text-align: right;\n",
       "    }\n",
       "</style>\n",
       "<table border=\"1\" class=\"dataframe\">\n",
       "  <thead>\n",
       "    <tr style=\"text-align: right;\">\n",
       "      <th></th>\n",
       "      <th>rooms</th>\n",
       "      <th>location</th>\n",
       "      <th>condition</th>\n",
       "      <th>m2</th>\n",
       "      <th>type</th>\n",
       "      <th>price</th>\n",
       "    </tr>\n",
       "  </thead>\n",
       "  <tbody>\n",
       "    <tr>\n",
       "      <th>rooms</th>\n",
       "      <td>1.000000</td>\n",
       "      <td>-0.060645</td>\n",
       "      <td>-0.342692</td>\n",
       "      <td>0.738398</td>\n",
       "      <td>0.272505</td>\n",
       "      <td>0.594447</td>\n",
       "    </tr>\n",
       "    <tr>\n",
       "      <th>location</th>\n",
       "      <td>-0.060645</td>\n",
       "      <td>1.000000</td>\n",
       "      <td>-0.122117</td>\n",
       "      <td>-0.288718</td>\n",
       "      <td>0.109806</td>\n",
       "      <td>-0.316291</td>\n",
       "    </tr>\n",
       "    <tr>\n",
       "      <th>condition</th>\n",
       "      <td>-0.342692</td>\n",
       "      <td>-0.122117</td>\n",
       "      <td>1.000000</td>\n",
       "      <td>-0.082482</td>\n",
       "      <td>-0.769335</td>\n",
       "      <td>-0.163575</td>\n",
       "    </tr>\n",
       "    <tr>\n",
       "      <th>m2</th>\n",
       "      <td>0.738398</td>\n",
       "      <td>-0.288718</td>\n",
       "      <td>-0.082482</td>\n",
       "      <td>1.000000</td>\n",
       "      <td>-0.043620</td>\n",
       "      <td>0.885215</td>\n",
       "    </tr>\n",
       "    <tr>\n",
       "      <th>type</th>\n",
       "      <td>0.272505</td>\n",
       "      <td>0.109806</td>\n",
       "      <td>-0.769335</td>\n",
       "      <td>-0.043620</td>\n",
       "      <td>1.000000</td>\n",
       "      <td>0.020591</td>\n",
       "    </tr>\n",
       "    <tr>\n",
       "      <th>price</th>\n",
       "      <td>0.594447</td>\n",
       "      <td>-0.316291</td>\n",
       "      <td>-0.163575</td>\n",
       "      <td>0.885215</td>\n",
       "      <td>0.020591</td>\n",
       "      <td>1.000000</td>\n",
       "    </tr>\n",
       "  </tbody>\n",
       "</table>\n",
       "</div>"
      ],
      "text/plain": [
       "              rooms  location  condition        m2      type     price\n",
       "rooms      1.000000 -0.060645  -0.342692  0.738398  0.272505  0.594447\n",
       "location  -0.060645  1.000000  -0.122117 -0.288718  0.109806 -0.316291\n",
       "condition -0.342692 -0.122117   1.000000 -0.082482 -0.769335 -0.163575\n",
       "m2         0.738398 -0.288718  -0.082482  1.000000 -0.043620  0.885215\n",
       "type       0.272505  0.109806  -0.769335 -0.043620  1.000000  0.020591\n",
       "price      0.594447 -0.316291  -0.163575  0.885215  0.020591  1.000000"
      ]
     },
     "execution_count": 4,
     "metadata": {},
     "output_type": "execute_result"
    }
   ],
   "source": [
    "# Cheking correlations\n",
    "df.corr()"
   ]
  },
  {
   "cell_type": "code",
   "execution_count": 6,
   "metadata": {
    "scrolled": true,
    "slideshow": {
     "slide_type": "slide"
    }
   },
   "outputs": [
    {
     "data": {
      "image/png": "[encoded data removed]",
      "text/plain": [
       "<Figure size 720x720 with 36 Axes>"
      ]
     },
     "metadata": {
      "needs_background": "light"
     },
     "output_type": "display_data"
    }
   ],
   "source": [
    "from pandas.plotting import scatter_matrix\n",
    "scatter_matrix(df, alpha=0.2, figsize=(10, 10))\n",
    "plt.show()"
   ]
  },
  {
   "cell_type": "code",
   "execution_count": 22,
   "metadata": {
    "slideshow": {
     "slide_type": "slide"
    }
   },
   "outputs": [],
   "source": [
    "# Splitting the dataset into the Training set and Test set\n",
    "X = df.iloc[:, :-1].values\n",
    "y = df.iloc[:, 5].values\n",
    "from sklearn.model_selection import train_test_split\n",
    "X_train, X_test, y_train, y_test = train_test_split(X, y, test_size=0.2, random_state=0)"
   ]
  },
  {
   "cell_type": "code",
   "execution_count": 23,
   "metadata": {
    "slideshow": {
     "slide_type": "slide"
    }
   },
   "outputs": [],
   "source": [
    "# Fitting Simple Linear Regression to the Training set (M2)\n",
    "from sklearn.linear_model import LinearRegression\n",
    "sr = LinearRegression().fit(X_train[:, 3:4], y_train)"
   ]
  },
  {
   "cell_type": "code",
   "execution_count": 7,
   "metadata": {
    "slideshow": {
     "slide_type": "slide"
    }
   },
   "outputs": [
    {
     "data": {
      "text/plain": [
       "(array([1508.56421886]), -36106.702307992935)"
      ]
     },
     "execution_count": 7,
     "metadata": {},
     "output_type": "execute_result"
    }
   ],
   "source": [
    "# Getting parameters\n",
    "sr.coef_, sr.intercept_"
   ]
  },
  {
   "cell_type": "code",
   "execution_count": 24,
   "metadata": {
    "slideshow": {
     "slide_type": "slide"
    }
   },
   "outputs": [],
   "source": [
    "# Predicting the Test set results\n",
    "y_pred = sr.predict(X_test[:, 3:4])"
   ]
  },
  {
   "cell_type": "code",
   "execution_count": 9,
   "metadata": {
    "slideshow": {
     "slide_type": "slide"
    }
   },
   "outputs": [
    {
     "data": {
      "text/plain": [
       "(0.7872201542559246, 0.7311991996529543)"
      ]
     },
     "execution_count": 9,
     "metadata": {},
     "output_type": "execute_result"
    }
   ],
   "source": [
    "# Coefficient of determination R^2\n",
    "sr.score(X_train[:, 3:4], y_train), sr.score(X_test[:, 3:4], y_test)"
   ]
  },
  {
   "cell_type": "code",
   "execution_count": 25,
   "metadata": {},
   "outputs": [
    {
     "data": {
      "text/plain": [
       "(846515564.358048, 459102013.27191734)"
      ]
     },
     "execution_count": 25,
     "metadata": {},
     "output_type": "execute_result"
    }
   ],
   "source": [
    "# Mean squared error\n",
    "from sklearn.metrics import mean_squared_error\n",
    "mean_squared_error(y_train, sr.predict(X_train[:, 3:4])), mean_squared_error(y_test, y_pred)"
   ]
  },
  {
   "cell_type": "code",
   "execution_count": 13,
   "metadata": {
    "slideshow": {
     "slide_type": "slide"
    }
   },
   "outputs": [
    {
     "data": {
      "image/png": "[encoded data removed]",
      "text/plain": [
       "<Figure size 432x288 with 1 Axes>"
      ]
     },
     "metadata": {
      "needs_background": "light"
     },
     "output_type": "display_data"
    }
   ],
   "source": [
    "# Visualising the Training set results\n",
    "plt.scatter(X_train[:,3], y_train, color = 'red')\n",
    "plt.plot(X_train[:,3], sr.predict(X_train[:, 3:4]), 'bo')\n",
    "plt.title('Price vs M2 (Training set)')\n",
    "plt.xlabel('M2')\n",
    "plt.ylabel('Price')\n",
    "plt.show()"
   ]
  },
  {
   "cell_type": "code",
   "execution_count": 14,
   "metadata": {},
   "outputs": [
    {
     "data": {
      "image/png": "[encoded data removed]",
      "text/plain": [
       "<Figure size 432x288 with 1 Axes>"
      ]
     },
     "metadata": {
      "needs_background": "light"
     },
     "output_type": "display_data"
    }
   ],
   "source": [
    "# Visualising the Test set results\n",
    "plt.scatter(X_test[:,3], y_test, color = 'red')\n",
    "plt.plot(X_test[:,3], sr.predict(X_test[:, 3:4]), 'bo')\n",
    "plt.title('Price vs M2 (Test set)')\n",
    "plt.xlabel('M2')\n",
    "plt.ylabel('Price')\n",
    "plt.show()"
   ]
  },
  {
   "cell_type": "code",
   "execution_count": 26,
   "metadata": {},
   "outputs": [],
   "source": [
    "# Fitting Multiple Linear Regression to the Training set\n",
    "from sklearn.linear_model import LinearRegression\n",
    "mr = LinearRegression().fit(X_train, y_train)"
   ]
  },
  {
   "cell_type": "code",
   "execution_count": 70,
   "metadata": {
    "scrolled": true
   },
   "outputs": [
    {
     "data": {
      "text/plain": [
       "(array([-11699.52495304,  -7845.14536414, -16008.41803329,   1695.68033309,\n",
       "          6254.7393622 ]),\n",
       " -13108.21121704494)"
      ]
     },
     "execution_count": 70,
     "metadata": {},
     "output_type": "execute_result"
    }
   ],
   "source": [
    "# Getting parameters\n",
    "mr.coef_, mr.intercept_"
   ]
  },
  {
   "cell_type": "code",
   "execution_count": 27,
   "metadata": {},
   "outputs": [],
   "source": [
    "# Predicting the Test set results\n",
    "y_pred = mr.predict(X_test)"
   ]
  },
  {
   "cell_type": "code",
   "execution_count": 73,
   "metadata": {},
   "outputs": [
    {
     "data": {
      "text/plain": [
       "(0.8106927187926689, 0.8208439234294531)"
      ]
     },
     "execution_count": 73,
     "metadata": {},
     "output_type": "execute_result"
    }
   ],
   "source": [
    "# Coefficient of determination R^2\n",
    "mr.score(X_train, y_train), mr.score(X_test, y_test)"
   ]
  },
  {
   "cell_type": "code",
   "execution_count": 28,
   "metadata": {},
   "outputs": [
    {
     "data": {
      "text/plain": [
       "(753133171.1794584, 305992077.91510516)"
      ]
     },
     "execution_count": 28,
     "metadata": {},
     "output_type": "execute_result"
    }
   ],
   "source": [
    "# Mean squared error\n",
    "from sklearn.metrics import mean_squared_error\n",
    "mean_squared_error(y_train, mr.predict(X_train)), mean_squared_error(y_test, y_pred)"
   ]
  },
  {
   "cell_type": "code",
   "execution_count": 74,
   "metadata": {},
   "outputs": [
    {
     "data": {
      "text/plain": [
       "array([2.19045081e-01, 1.60819904e-03, 1.27269613e-01, 4.94901888e-02,\n",
       "       9.39294854e-40, 4.56513323e-01])"
      ]
     },
     "execution_count": 74,
     "metadata": {},
     "output_type": "execute_result"
    }
   ],
   "source": [
    "# p-values\n",
    "import statsmodels.api as sm\n",
    "X = sm.add_constant(X_train)\n",
    "mr1 = sm.OLS(y_train, X).fit()\n",
    "mr1.pvalues\n",
    "#mr1.summary()"
   ]
  },
  {
   "cell_type": "code",
   "execution_count": 19,
   "metadata": {},
   "outputs": [
    {
     "data": {
      "image/png": "[encoded data removed]",
      "text/plain": [
       "<Figure size 432x288 with 1 Axes>"
      ]
     },
     "metadata": {
      "needs_background": "light"
     },
     "output_type": "display_data"
    }
   ],
   "source": [
    "# Visualising the Training set results\n",
    "plt.scatter(X_train[:,3], y_train, color = 'red')\n",
    "plt.plot(X_train[:,3], mr.predict(X_train), 'bo')\n",
    "plt.title('Price vs M2 (Training set)')\n",
    "plt.xlabel('M2')\n",
    "plt.ylabel('Price')\n",
    "plt.show()"
   ]
  },
  {
   "cell_type": "code",
   "execution_count": 20,
   "metadata": {},
   "outputs": [
    {
     "data": {
      "image/png": "[encoded data removed]",
      "text/plain": [
       "<Figure size 432x288 with 1 Axes>"
      ]
     },
     "metadata": {
      "needs_background": "light"
     },
     "output_type": "display_data"
    }
   ],
   "source": [
    "# Visualising the Test set results\n",
    "plt.scatter(X_test[:,3], y_test, color = 'red')\n",
    "plt.plot(X_test[:,3], mr.predict(X_test), 'bo')\n",
    "plt.title('Price vs M2 (Test set)')\n",
    "plt.xlabel('M2')\n",
    "plt.ylabel('Price')\n",
    "plt.show()"
   ]
  },
  {
   "cell_type": "code",
   "execution_count": 14,
   "metadata": {},
   "outputs": [],
   "source": [
    "# Fitting Polynomial Regression to the dataset\n",
    "from sklearn.preprocessing import PolynomialFeatures\n",
    "X_train_p = PolynomialFeatures().fit_transform(X_train[:, 3:4])\n",
    "X_test_p = PolynomialFeatures().fit_transform(X_test[:, 3:4])\n",
    "pr = LinearRegression().fit(X_train_p[:,1:], y_train)"
   ]
  },
  {
   "cell_type": "code",
   "execution_count": 14,
   "metadata": {},
   "outputs": [
    {
     "data": {
      "text/plain": [
       "(array([158.05071132,   6.75702175]), 18785.27193613172)"
      ]
     },
     "execution_count": 14,
     "metadata": {},
     "output_type": "execute_result"
    }
   ],
   "source": [
    "# Getting parameters\n",
    "pr.coef_, pr.intercept_"
   ]
  },
  {
   "cell_type": "code",
   "execution_count": 15,
   "metadata": {},
   "outputs": [],
   "source": [
    "# Predicting the Test set results\n",
    "y_pred = pr.predict(X_test_p[:,1:])"
   ]
  },
  {
   "cell_type": "code",
   "execution_count": 16,
   "metadata": {},
   "outputs": [
    {
     "data": {
      "text/plain": [
       "(0.8218549974270769, 0.7080453786249812)"
      ]
     },
     "execution_count": 16,
     "metadata": {},
     "output_type": "execute_result"
    }
   ],
   "source": [
    "# Coefficient of determination R^2\n",
    "pr.score(X_train_p[:,1:], y_train), pr.score(X_test_p[:,1:], y_test)"
   ]
  },
  {
   "cell_type": "code",
   "execution_count": 16,
   "metadata": {},
   "outputs": [
    {
     "data": {
      "text/plain": [
       "(708725569.6762003, 498647899.42685413)"
      ]
     },
     "execution_count": 16,
     "metadata": {},
     "output_type": "execute_result"
    }
   ],
   "source": [
    "# Mean squared error\n",
    "from sklearn.metrics import mean_squared_error\n",
    "mean_squared_error(y_train, pr.predict(X_train_p[:,1:])), mean_squared_error(y_test, y_pred)"
   ]
  },
  {
   "cell_type": "code",
   "execution_count": 25,
   "metadata": {},
   "outputs": [
    {
     "data": {
      "image/png": "[encoded data removed]",
      "text/plain": [
       "<Figure size 432x288 with 1 Axes>"
      ]
     },
     "metadata": {
      "needs_background": "light"
     },
     "output_type": "display_data"
    }
   ],
   "source": [
    "# Visualising the Training set results\n",
    "plt.scatter(X_train[:,3], y_train, color = 'red')\n",
    "plt.plot(X_train[:,3], pr.predict(X_train_p[:,1:]), 'bo')\n",
    "plt.title('Price vs M2 (Training set)')\n",
    "plt.xlabel('M2')\n",
    "plt.ylabel('Price')\n",
    "plt.show()"
   ]
  },
  {
   "cell_type": "code",
   "execution_count": 26,
   "metadata": {},
   "outputs": [
    {
     "data": {
      "image/png": "[encoded data removed]",
      "text/plain": [
       "<Figure size 432x288 with 1 Axes>"
      ]
     },
     "metadata": {
      "needs_background": "light"
     },
     "output_type": "display_data"
    }
   ],
   "source": [
    "# Visualising the Test set results\n",
    "plt.scatter(X_test[:,3], y_test, color = 'red')\n",
    "plt.plot(X_test[:,3], pr.predict(X_test_p[:,1:]), 'bo')\n",
    "plt.title('Price vs M2 (Test set)')\n",
    "plt.xlabel('M2')\n",
    "plt.ylabel('Price')\n",
    "plt.show()"
   ]
  },
  {
   "cell_type": "code",
   "execution_count": 28,
   "metadata": {
    "scrolled": true
   },
   "outputs": [],
   "source": [
    "# Backward Elimination with p-values\n",
    "import statsmodels.api as sm\n",
    "def backwardElimination(x, sl):\n",
    "    numVars = len(x[0])\n",
    "    for i in range(0, numVars):\n",
    "        regressor_OLS = sm.OLS(y, x).fit()\n",
    "        maxVar = max(regressor_OLS.pvalues).astype(float)\n",
    "        if maxVar > sl:\n",
    "            for j in range(0, numVars - i):\n",
    "                if (regressor_OLS.pvalues[j].astype(float) == maxVar):\n",
    "                    x = np.delete(x, j, 1)\n",
    "    regressor_OLS.summary()\n",
    "    return x\n",
    "         \n",
    "SL = 0.05\n",
    "X_opt = X_train[:, [0, 1, 2, 3, 4]]\n",
    "y = y_train\n",
    "X_Modeled = backwardElimination(X_opt, SL)"
   ]
  },
  {
   "cell_type": "code",
   "execution_count": 31,
   "metadata": {},
   "outputs": [
    {
     "data": {
      "text/plain": [
       "array([[  3.,   0.,   1., 140.],\n",
       "       [  1.,   1.,   1.,  41.],\n",
       "       [  3.,   0.,   1., 106.],\n",
       "       [  3.,   0.,   0.,  78.],\n",
       "       [  3.,   0.,   1.,  95.],\n",
       "       [  3.,   0.,   0.,  70.],\n",
       "       [  3.,   0.,   0., 118.],\n",
       "       [  1.,   1.,   0.,  82.],\n",
       "       [  3.,   0.,   1.,  88.],\n",
       "       [  3.,   0.,   1., 127.],\n",
       "       [  3.,   1.,   1.,  69.],\n",
       "       [  1.,   1.,   1.,  44.],\n",
       "       [  3.,   0.,   0.,  76.],\n",
       "       [  2.,   1.,   1.,  64.],\n",
       "       [  1.,   0.,   1.,  46.],\n",
       "       [  2.,   0.,   1.,  40.],\n",
       "       [  3.,   0.,   1.,  88.],\n",
       "       [  1.,   1.,   1.,  42.],\n",
       "       [  3.,   1.,   1., 107.],\n",
       "       [  1.,   1.,   1.,  41.],\n",
       "       [  4.,   0.,   0., 146.],\n",
       "       [  2.,   0.,   0.,  35.],\n",
       "       [  1.,   0.,   1.,  30.],\n",
       "       [  2.,   0.,   1.,  79.],\n",
       "       [  3.,   0.,   0.,  68.],\n",
       "       [  1.,   0.,   1.,  50.],\n",
       "       [  1.,   0.,   1.,  66.],\n",
       "       [  1.,   0.,   0., 190.],\n",
       "       [  1.,   0.,   1.,  49.],\n",
       "       [  1.,   0.,   1.,  48.],\n",
       "       [  3.,   1.,   0.,  65.],\n",
       "       [  2.,   0.,   1.,  74.],\n",
       "       [  2.,   0.,   1.,  86.],\n",
       "       [  3.,   0.,   0., 112.],\n",
       "       [  2.,   0.,   1.,  95.],\n",
       "       [  3.,   0.,   1., 190.],\n",
       "       [  4.,   0.,   1., 168.],\n",
       "       [  1.,   0.,   1.,  28.],\n",
       "       [  3.,   0.,   1., 128.],\n",
       "       [  2.,   1.,   1.,  53.],\n",
       "       [  1.,   0.,   0.,  30.],\n",
       "       [  1.,   0.,   1.,  39.],\n",
       "       [  1.,   0.,   1.,  48.],\n",
       "       [  2.,   0.,   1.,  53.],\n",
       "       [  5.,   0.,   0., 163.],\n",
       "       [  2.,   0.,   0.,  54.],\n",
       "       [  1.,   0.,   1.,  55.],\n",
       "       [  3.,   0.,   1., 113.],\n",
       "       [  3.,   0.,   0.,  67.],\n",
       "       [  3.,   0.,   0., 140.],\n",
       "       [  3.,   0.,   1., 114.],\n",
       "       [  2.,   0.,   1.,  65.],\n",
       "       [  1.,   0.,   1.,  60.],\n",
       "       [  2.,   0.,   1.,  51.],\n",
       "       [  2.,   0.,   1.,  73.],\n",
       "       [  1.,   0.,   1.,  50.],\n",
       "       [  3.,   1.,   0.,  67.],\n",
       "       [  1.,   0.,   1.,  64.],\n",
       "       [  2.,   1.,   1.,  83.],\n",
       "       [  1.,   1.,   1.,  56.],\n",
       "       [  3.,   1.,   0.,  60.],\n",
       "       [  1.,   0.,   1.,  41.],\n",
       "       [  1.,   1.,   1.,  36.],\n",
       "       [  2.,   1.,   1.,  74.],\n",
       "       [  3.,   1.,   0.,  64.],\n",
       "       [  1.,   0.,   1.,  54.],\n",
       "       [  3.,   0.,   1., 106.],\n",
       "       [  1.,   1.,   1.,  36.],\n",
       "       [  2.,   0.,   1., 107.],\n",
       "       [  2.,   1.,   0.,  21.],\n",
       "       [  2.,   1.,   1.,  63.],\n",
       "       [  3.,   0.,   1.,  85.],\n",
       "       [  1.,   0.,   1.,  71.],\n",
       "       [  1.,   0.,   1.,  60.],\n",
       "       [  4.,   1.,   0.,  69.],\n",
       "       [  2.,   0.,   1.,  65.],\n",
       "       [  2.,   1.,   0.,  50.],\n",
       "       [  2.,   1.,   1.,  70.],\n",
       "       [  2.,   1.,   1.,  64.],\n",
       "       [  1.,   1.,   1.,  45.],\n",
       "       [  1.,   1.,   1.,  43.],\n",
       "       [  1.,   0.,   1.,  41.],\n",
       "       [  1.,   0.,   0.,  48.],\n",
       "       [  2.,   1.,   1.,  58.],\n",
       "       [  3.,   1.,   0.,  74.],\n",
       "       [  1.,   1.,   0.,  37.],\n",
       "       [  2.,   0.,   1.,  81.],\n",
       "       [  3.,   0.,   1.,  93.],\n",
       "       [  3.,   0.,   0., 143.],\n",
       "       [  1.,   0.,   1.,  50.],\n",
       "       [  2.,   0.,   1., 137.],\n",
       "       [  3.,   0.,   1., 103.],\n",
       "       [  3.,   0.,   1.,  97.],\n",
       "       [  2.,   0.,   1.,  72.],\n",
       "       [  2.,   0.,   0.,  45.],\n",
       "       [  1.,   1.,   1.,  45.],\n",
       "       [  2.,   0.,   1.,  79.],\n",
       "       [  1.,   0.,   1.,  57.],\n",
       "       [  1.,   1.,   1.,  53.],\n",
       "       [  1.,   0.,   1.,  53.],\n",
       "       [  1.,   0.,   1.,  81.],\n",
       "       [  2.,   0.,   1.,  81.],\n",
       "       [  2.,   0.,   1.,  80.],\n",
       "       [  3.,   1.,   1.,  97.],\n",
       "       [  2.,   0.,   1., 102.],\n",
       "       [  1.,   0.,   1.,  38.],\n",
       "       [  1.,   0.,   1.,  46.],\n",
       "       [  2.,   0.,   1., 112.],\n",
       "       [  3.,   0.,   0.,  83.],\n",
       "       [  1.,   0.,   1.,  66.],\n",
       "       [  1.,   1.,   1.,  44.],\n",
       "       [  1.,   0.,   0.,  37.],\n",
       "       [  1.,   0.,   1.,  50.],\n",
       "       [  4.,   0.,   1., 163.],\n",
       "       [  3.,   1.,   0.,  57.],\n",
       "       [  4.,   0.,   1., 189.],\n",
       "       [  5.,   0.,   1., 149.],\n",
       "       [  3.,   0.,   1., 132.],\n",
       "       [  1.,   0.,   1.,  38.],\n",
       "       [  5.,   0.,   0., 190.],\n",
       "       [  4.,   0.,   1., 168.],\n",
       "       [  2.,   0.,   1.,  60.],\n",
       "       [  3.,   0.,   1., 108.],\n",
       "       [  1.,   0.,   1.,  61.],\n",
       "       [  2.,   0.,   1.,  91.],\n",
       "       [  3.,   0.,   0.,  78.],\n",
       "       [  2.,   1.,   1.,  45.],\n",
       "       [  2.,   0.,   1.,  70.],\n",
       "       [  2.,   0.,   1.,  69.],\n",
       "       [  1.,   0.,   1.,  39.],\n",
       "       [  2.,   0.,   1.,  60.],\n",
       "       [  2.,   0.,   1.,  69.],\n",
       "       [  2.,   0.,   1.,  67.],\n",
       "       [  3.,   0.,   1., 125.],\n",
       "       [  3.,   0.,   1.,  70.],\n",
       "       [  3.,   0.,   1., 113.],\n",
       "       [  2.,   0.,   1.,  91.],\n",
       "       [  1.,   0.,   1.,  60.],\n",
       "       [  2.,   1.,   1.,  63.],\n",
       "       [  3.,   1.,   0., 100.],\n",
       "       [  1.,   0.,   1.,  49.],\n",
       "       [  2.,   0.,   1., 118.],\n",
       "       [  2.,   0.,   1.,  81.],\n",
       "       [  2.,   0.,   1.,  76.],\n",
       "       [  1.,   0.,   1.,  54.],\n",
       "       [  1.,   0.,   1.,  49.],\n",
       "       [  3.,   1.,   1.,  93.],\n",
       "       [  1.,   1.,   0.,  33.],\n",
       "       [  2.,   1.,   1.,  73.],\n",
       "       [  1.,   0.,   1.,  56.],\n",
       "       [  3.,   1.,   0.,  57.],\n",
       "       [  3.,   0.,   1., 122.],\n",
       "       [  2.,   0.,   1.,  82.],\n",
       "       [  2.,   1.,   1.,  70.],\n",
       "       [  2.,   0.,   1.,  75.],\n",
       "       [  1.,   0.,   1.,  52.],\n",
       "       [  2.,   0.,   0.,  38.],\n",
       "       [  3.,   0.,   1., 133.],\n",
       "       [  1.,   1.,   1.,  56.],\n",
       "       [  1.,   1.,   1.,  40.],\n",
       "       [  2.,   0.,   0., 118.],\n",
       "       [  2.,   1.,   1.,  64.],\n",
       "       [  3.,   0.,   1., 117.],\n",
       "       [  3.,   1.,   0.,  68.],\n",
       "       [  4.,   0.,   0., 190.],\n",
       "       [  2.,   1.,   1.,  63.],\n",
       "       [  3.,   0.,   1., 123.],\n",
       "       [  3.,   0.,   1., 141.],\n",
       "       [  1.,   1.,   1.,  43.],\n",
       "       [  3.,   0.,   1., 114.],\n",
       "       [  1.,   0.,   1.,  38.],\n",
       "       [  3.,   1.,   0.,  78.],\n",
       "       [  1.,   0.,   1.,  48.]])"
      ]
     },
     "execution_count": 31,
     "metadata": {},
     "output_type": "execute_result"
    }
   ],
   "source": [
    "X_Modeled"
   ]
  },
  {
   "cell_type": "code",
   "execution_count": 17,
   "metadata": {},
   "outputs": [],
   "source": [
    "# Fitting Optimized Multiple Linear Regression to the Training set\n",
    "from sklearn.linear_model import LinearRegression\n",
    "omr = LinearRegression().fit(X_train[:, 0:4], y_train)"
   ]
  },
  {
   "cell_type": "code",
   "execution_count": 36,
   "metadata": {},
   "outputs": [
    {
     "data": {
      "text/plain": [
       "(array([-11060.65680349,  -8092.5842503 , -20423.7590526 ,   1674.95218774]),\n",
       " -7988.89098065703)"
      ]
     },
     "execution_count": 36,
     "metadata": {},
     "output_type": "execute_result"
    }
   ],
   "source": [
    "# Getting parameters\n",
    "omr.coef_, omr.intercept_"
   ]
  },
  {
   "cell_type": "code",
   "execution_count": 18,
   "metadata": {},
   "outputs": [],
   "source": [
    "# Predicting the Test set results\n",
    "y_pred = omr.predict(X_test[:, 0:4])"
   ]
  },
  {
   "cell_type": "code",
   "execution_count": 38,
   "metadata": {},
   "outputs": [
    {
     "data": {
      "text/plain": [
       "(0.8100612955370429, 0.8287517619676935)"
      ]
     },
     "execution_count": 38,
     "metadata": {},
     "output_type": "execute_result"
    }
   ],
   "source": [
    "# Coefficient of determination R^2\n",
    "omr.score(X_train[:, 0:4], y_train), omr.score(X_test[:, 0:4], y_test)"
   ]
  },
  {
   "cell_type": "code",
   "execution_count": 19,
   "metadata": {},
   "outputs": [
    {
     "data": {
      "text/plain": [
       "(755645202.3904784, 292485776.63606113)"
      ]
     },
     "execution_count": 19,
     "metadata": {},
     "output_type": "execute_result"
    }
   ],
   "source": [
    "# Mean squared error\n",
    "from sklearn.metrics import mean_squared_error\n",
    "mean_squared_error(y_train, omr.predict(X_train[:, 0:4])), mean_squared_error(y_test, y_pred)"
   ]
  },
  {
   "cell_type": "code",
   "execution_count": 39,
   "metadata": {},
   "outputs": [
    {
     "data": {
      "image/png": "[encoded data removed]",
      "text/plain": [
       "<Figure size 432x288 with 1 Axes>"
      ]
     },
     "metadata": {
      "needs_background": "light"
     },
     "output_type": "display_data"
    }
   ],
   "source": [
    "# Visualising the Training set results\n",
    "plt.scatter(X_train[:,3], y_train, color = 'red')\n",
    "plt.plot(X_train[:,3], omr.predict(X_train[:, 0:4]), 'bo')\n",
    "plt.title('Price vs M2 (Training set)')\n",
    "plt.xlabel('M2')\n",
    "plt.ylabel('Price')\n",
    "plt.show()"
   ]
  },
  {
   "cell_type": "code",
   "execution_count": 40,
   "metadata": {},
   "outputs": [
    {
     "data": {
      "image/png": "[encoded data removed]",
      "text/plain": [
       "<Figure size 432x288 with 1 Axes>"
      ]
     },
     "metadata": {
      "needs_background": "light"
     },
     "output_type": "display_data"
    }
   ],
   "source": [
    "# Visualising the Test set results\n",
    "plt.scatter(X_test[:,3], y_test, color = 'red')\n",
    "plt.plot(X_test[:,3], omr.predict(X_test[:, 0:4]), 'bo')\n",
    "plt.title('Price vs M2 (Test set)')\n",
    "plt.xlabel('M2')\n",
    "plt.ylabel('Price')\n",
    "plt.show()"
   ]
  }
 ],
 "metadata": {
  "kernelspec": {
   "display_name": "Python 3",
   "language": "python",
   "name": "python3"
  },
  "language_info": {
   "codemirror_mode": {
    "name": "ipython",
    "version": 3
   },
   "file_extension": ".py",
   "mimetype": "text/x-python",
   "name": "python",
   "nbconvert_exporter": "python",
   "pygments_lexer": "ipython3",
   "version": "3.7.6"
  }
 },
 "nbformat": 4,
 "nbformat_minor": 4
}
