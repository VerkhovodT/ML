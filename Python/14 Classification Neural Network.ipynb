{
 "cells": [
  {
   "cell_type": "code",
   "execution_count": 12,
   "metadata": {},
   "outputs": [],
   "source": [
    "# Classification Neural Network"
   ]
  },
  {
   "cell_type": "code",
   "execution_count": 13,
   "metadata": {},
   "outputs": [],
   "source": [
    "# Importing the libraries\n",
    "import numpy as np\n",
    "import matplotlib.pyplot as plt\n",
    "import pandas as pd"
   ]
  },
  {
   "cell_type": "code",
   "execution_count": 14,
   "metadata": {},
   "outputs": [],
   "source": [
    "# Importing prepared dataset\n",
    "import pickle\n",
    "input = open('data.pkl', 'rb')\n",
    "obj = pickle.load(input)\n",
    "input.close()\n",
    "X_train = obj[\"X_train\"]\n",
    "X_test = obj[\"X_test\"]\n",
    "y_train = obj[\"y_train\"]\n",
    "y_test = obj[\"y_test\"]"
   ]
  },
  {
   "cell_type": "code",
   "execution_count": 15,
   "metadata": {},
   "outputs": [],
   "source": [
    "# Install Tensorflow\n",
    "# Install Keras\n",
    "# Importing the Keras libraries and packages\n",
    "import keras\n",
    "from keras.models import Sequential\n",
    "from keras.layers import Dense"
   ]
  },
  {
   "cell_type": "code",
   "execution_count": 16,
   "metadata": {},
   "outputs": [
    {
     "name": "stderr",
     "output_type": "stream",
     "text": [
      "C:\\Users\\kater\\anaconda3\\lib\\site-packages\\ipykernel_launcher.py:5: UserWarning: Update your `Dense` call to the Keras 2 API: `Dense(activation=\"relu\", input_dim=2, units=2, kernel_initializer=\"uniform\")`\n",
      "  \"\"\"\n",
      "C:\\Users\\kater\\anaconda3\\lib\\site-packages\\ipykernel_launcher.py:8: UserWarning: Update your `Dense` call to the Keras 2 API: `Dense(activation=\"sigmoid\", units=1, kernel_initializer=\"uniform\")`\n",
      "  \n"
     ]
    }
   ],
   "source": [
    "# Initialising the ANN\n",
    "cnn = Sequential()\n",
    "\n",
    "# Adding the input layer and the first hidden layer\n",
    "cnn.add(Dense(output_dim = 2, init = 'uniform', activation = 'relu', input_dim = 2))\n",
    "\n",
    "# Adding the output layer\n",
    "cnn.add(Dense(output_dim = 1, init = 'uniform', activation = 'sigmoid'))\n",
    "\n",
    "# Compiling the ANN\n",
    "cnn.compile(optimizer = 'adam', loss = 'binary_crossentropy', metrics = ['accuracy'])"
   ]
  },
  {
   "cell_type": "code",
   "execution_count": 17,
   "metadata": {},
   "outputs": [
    {
     "name": "stderr",
     "output_type": "stream",
     "text": [
      "C:\\Users\\kater\\anaconda3\\lib\\site-packages\\ipykernel_launcher.py:2: UserWarning: The `nb_epoch` argument in `fit` has been renamed `epochs`.\n",
      "  \n"
     ]
    },
    {
     "name": "stdout",
     "output_type": "stream",
     "text": [
      "Epoch 1/100\n",
      "480/480 [==============================] - 0s 766us/step - loss: 0.6918 - accuracy: 0.7958\n",
      "Epoch 2/100\n",
      "480/480 [==============================] - 0s 173us/step - loss: 0.6852 - accuracy: 0.7792\n",
      "Epoch 3/100\n",
      "480/480 [==============================] - 0s 175us/step - loss: 0.6715 - accuracy: 0.7854\n",
      "Epoch 4/100\n",
      "480/480 [==============================] - 0s 200us/step - loss: 0.6513 - accuracy: 0.7875\n",
      "Epoch 5/100\n",
      "480/480 [==============================] - 0s 200us/step - loss: 0.6276 - accuracy: 0.7771\n",
      "Epoch 6/100\n",
      "480/480 [==============================] - 0s 173us/step - loss: 0.6035 - accuracy: 0.7833\n",
      "Epoch 7/100\n",
      "480/480 [==============================] - 0s 189us/step - loss: 0.5812 - accuracy: 0.7812\n",
      "Epoch 8/100\n",
      "480/480 [==============================] - 0s 183us/step - loss: 0.5609 - accuracy: 0.7854\n",
      "Epoch 9/100\n",
      "480/480 [==============================] - 0s 204us/step - loss: 0.5434 - accuracy: 0.7896\n",
      "Epoch 10/100\n",
      "480/480 [==============================] - 0s 210us/step - loss: 0.5282 - accuracy: 0.7958\n",
      "Epoch 11/100\n",
      "480/480 [==============================] - 0s 181us/step - loss: 0.5150 - accuracy: 0.8083\n",
      "Epoch 12/100\n",
      "480/480 [==============================] - 0s 183us/step - loss: 0.5029 - accuracy: 0.8104\n",
      "Epoch 13/100\n",
      "480/480 [==============================] - 0s 212us/step - loss: 0.4925 - accuracy: 0.8146\n",
      "Epoch 14/100\n",
      "480/480 [==============================] - 0s 187us/step - loss: 0.4827 - accuracy: 0.8208\n",
      "Epoch 15/100\n",
      "480/480 [==============================] - 0s 177us/step - loss: 0.4740 - accuracy: 0.8333\n",
      "Epoch 16/100\n",
      "480/480 [==============================] - 0s 181us/step - loss: 0.4655 - accuracy: 0.8313\n",
      "Epoch 17/100\n",
      "480/480 [==============================] - 0s 185us/step - loss: 0.4578 - accuracy: 0.8375\n",
      "Epoch 18/100\n",
      "480/480 [==============================] - 0s 196us/step - loss: 0.4508 - accuracy: 0.8375\n",
      "Epoch 19/100\n",
      "480/480 [==============================] - 0s 187us/step - loss: 0.4441 - accuracy: 0.8333\n",
      "Epoch 20/100\n",
      "480/480 [==============================] - 0s 194us/step - loss: 0.4377 - accuracy: 0.8354\n",
      "Epoch 21/100\n",
      "480/480 [==============================] - 0s 221us/step - loss: 0.4318 - accuracy: 0.8375\n",
      "Epoch 22/100\n",
      "480/480 [==============================] - 0s 187us/step - loss: 0.4263 - accuracy: 0.8417\n",
      "Epoch 23/100\n",
      "480/480 [==============================] - 0s 192us/step - loss: 0.4210 - accuracy: 0.8438\n",
      "Epoch 24/100\n",
      "480/480 [==============================] - 0s 179us/step - loss: 0.4161 - accuracy: 0.8458\n",
      "Epoch 25/100\n",
      "480/480 [==============================] - 0s 198us/step - loss: 0.4113 - accuracy: 0.8479\n",
      "Epoch 26/100\n",
      "480/480 [==============================] - 0s 187us/step - loss: 0.4067 - accuracy: 0.8500\n",
      "Epoch 27/100\n",
      "480/480 [==============================] - 0s 196us/step - loss: 0.4025 - accuracy: 0.8479\n",
      "Epoch 28/100\n",
      "480/480 [==============================] - 0s 183us/step - loss: 0.3984 - accuracy: 0.8521\n",
      "Epoch 29/100\n",
      "480/480 [==============================] - 0s 229us/step - loss: 0.3947 - accuracy: 0.8500\n",
      "Epoch 30/100\n",
      "480/480 [==============================] - 0s 208us/step - loss: 0.3910 - accuracy: 0.8521\n",
      "Epoch 31/100\n",
      "480/480 [==============================] - 0s 208us/step - loss: 0.3876 - accuracy: 0.8500\n",
      "Epoch 32/100\n",
      "480/480 [==============================] - 0s 183us/step - loss: 0.3844 - accuracy: 0.8458\n",
      "Epoch 33/100\n",
      "480/480 [==============================] - 0s 181us/step - loss: 0.3811 - accuracy: 0.8479\n",
      "Epoch 34/100\n",
      "480/480 [==============================] - 0s 194us/step - loss: 0.3781 - accuracy: 0.8438\n",
      "Epoch 35/100\n",
      "480/480 [==============================] - 0s 196us/step - loss: 0.3752 - accuracy: 0.8500\n",
      "Epoch 36/100\n",
      "480/480 [==============================] - 0s 208us/step - loss: 0.3727 - accuracy: 0.8521\n",
      "Epoch 37/100\n",
      "480/480 [==============================] - 0s 208us/step - loss: 0.3700 - accuracy: 0.8500\n",
      "Epoch 38/100\n",
      "480/480 [==============================] - 0s 192us/step - loss: 0.3675 - accuracy: 0.8500\n",
      "Epoch 39/100\n",
      "480/480 [==============================] - 0s 179us/step - loss: 0.3652 - accuracy: 0.8500\n",
      "Epoch 40/100\n",
      "480/480 [==============================] - 0s 206us/step - loss: 0.3631 - accuracy: 0.85000s - loss: 0.3504 - accuracy: 0.87\n",
      "Epoch 41/100\n",
      "480/480 [==============================] - 0s 206us/step - loss: 0.3608 - accuracy: 0.8500\n",
      "Epoch 42/100\n",
      "480/480 [==============================] - 0s 194us/step - loss: 0.3587 - accuracy: 0.8542\n",
      "Epoch 43/100\n",
      "480/480 [==============================] - 0s 183us/step - loss: 0.3566 - accuracy: 0.8583\n",
      "Epoch 44/100\n",
      "480/480 [==============================] - 0s 200us/step - loss: 0.3543 - accuracy: 0.8583\n",
      "Epoch 45/100\n",
      "480/480 [==============================] - 0s 202us/step - loss: 0.3522 - accuracy: 0.8604\n",
      "Epoch 46/100\n",
      "480/480 [==============================] - 0s 202us/step - loss: 0.3501 - accuracy: 0.8583\n",
      "Epoch 47/100\n",
      "480/480 [==============================] - 0s 196us/step - loss: 0.3482 - accuracy: 0.8604\n",
      "Epoch 48/100\n",
      "480/480 [==============================] - 0s 214us/step - loss: 0.3465 - accuracy: 0.8604\n",
      "Epoch 49/100\n",
      "480/480 [==============================] - 0s 192us/step - loss: 0.3446 - accuracy: 0.8604\n",
      "Epoch 50/100\n",
      "480/480 [==============================] - 0s 181us/step - loss: 0.3429 - accuracy: 0.8604\n",
      "Epoch 51/100\n",
      "480/480 [==============================] - 0s 277us/step - loss: 0.3413 - accuracy: 0.8604\n",
      "Epoch 52/100\n",
      "480/480 [==============================] - 0s 291us/step - loss: 0.3398 - accuracy: 0.8604\n",
      "Epoch 53/100\n",
      "480/480 [==============================] - 0s 275us/step - loss: 0.3383 - accuracy: 0.8604\n",
      "Epoch 54/100\n",
      "480/480 [==============================] - 0s 252us/step - loss: 0.3368 - accuracy: 0.8562\n",
      "Epoch 55/100\n",
      "480/480 [==============================] - 0s 302us/step - loss: 0.3355 - accuracy: 0.8583\n",
      "Epoch 56/100\n",
      "480/480 [==============================] - 0s 262us/step - loss: 0.3342 - accuracy: 0.8583\n",
      "Epoch 57/100\n",
      "480/480 [==============================] - 0s 217us/step - loss: 0.3328 - accuracy: 0.8562\n",
      "Epoch 58/100\n",
      "480/480 [==============================] - 0s 206us/step - loss: 0.3316 - accuracy: 0.8583\n",
      "Epoch 59/100\n",
      "480/480 [==============================] - 0s 416us/step - loss: 0.3303 - accuracy: 0.8583\n",
      "Epoch 60/100\n",
      "480/480 [==============================] - 0s 271us/step - loss: 0.3292 - accuracy: 0.8562\n",
      "Epoch 61/100\n",
      "480/480 [==============================] - 0s 275us/step - loss: 0.3281 - accuracy: 0.8562\n",
      "Epoch 62/100\n",
      "480/480 [==============================] - 0s 256us/step - loss: 0.3272 - accuracy: 0.8542\n",
      "Epoch 63/100\n",
      "480/480 [==============================] - 0s 246us/step - loss: 0.3260 - accuracy: 0.8562\n",
      "Epoch 64/100\n",
      "480/480 [==============================] - 0s 258us/step - loss: 0.3250 - accuracy: 0.8562\n",
      "Epoch 65/100\n",
      "480/480 [==============================] - 0s 252us/step - loss: 0.3242 - accuracy: 0.8542\n",
      "Epoch 66/100\n",
      "480/480 [==============================] - 0s 396us/step - loss: 0.3233 - accuracy: 0.85420s - loss: 0.3322 - accuracy: 0.\n",
      "Epoch 67/100\n",
      "480/480 [==============================] - 0s 321us/step - loss: 0.3223 - accuracy: 0.8542\n",
      "Epoch 68/100\n",
      "480/480 [==============================] - 0s 310us/step - loss: 0.3215 - accuracy: 0.8562\n",
      "Epoch 69/100\n",
      "480/480 [==============================] - 0s 248us/step - loss: 0.3207 - accuracy: 0.8562\n",
      "Epoch 70/100\n",
      "480/480 [==============================] - 0s 327us/step - loss: 0.3198 - accuracy: 0.8562\n",
      "Epoch 71/100\n",
      "480/480 [==============================] - 0s 252us/step - loss: 0.3193 - accuracy: 0.8562\n",
      "Epoch 72/100\n",
      "480/480 [==============================] - 0s 310us/step - loss: 0.3185 - accuracy: 0.8562\n",
      "Epoch 73/100\n",
      "480/480 [==============================] - 0s 304us/step - loss: 0.3177 - accuracy: 0.8542\n",
      "Epoch 74/100\n",
      "480/480 [==============================] - 0s 301us/step - loss: 0.3170 - accuracy: 0.8562\n",
      "Epoch 75/100\n",
      "480/480 [==============================] - 0s 289us/step - loss: 0.3164 - accuracy: 0.8542\n",
      "Epoch 76/100\n",
      "480/480 [==============================] - 0s 227us/step - loss: 0.3157 - accuracy: 0.8542\n",
      "Epoch 77/100\n",
      "480/480 [==============================] - 0s 233us/step - loss: 0.3151 - accuracy: 0.8542\n",
      "Epoch 78/100\n",
      "480/480 [==============================] - 0s 246us/step - loss: 0.3146 - accuracy: 0.8542\n",
      "Epoch 79/100\n"
     ]
    },
    {
     "name": "stdout",
     "output_type": "stream",
     "text": [
      "480/480 [==============================] - 0s 262us/step - loss: 0.3141 - accuracy: 0.8542\n",
      "Epoch 80/100\n",
      "480/480 [==============================] - 0s 179us/step - loss: 0.3138 - accuracy: 0.8521\n",
      "Epoch 81/100\n",
      "480/480 [==============================] - 0s 160us/step - loss: 0.3130 - accuracy: 0.8542\n",
      "Epoch 82/100\n",
      "480/480 [==============================] - 0s 156us/step - loss: 0.3126 - accuracy: 0.8542\n",
      "Epoch 83/100\n",
      "480/480 [==============================] - 0s 162us/step - loss: 0.3120 - accuracy: 0.8542\n",
      "Epoch 84/100\n",
      "480/480 [==============================] - 0s 164us/step - loss: 0.3117 - accuracy: 0.8521\n",
      "Epoch 85/100\n",
      "480/480 [==============================] - 0s 167us/step - loss: 0.3112 - accuracy: 0.8521\n",
      "Epoch 86/100\n",
      "480/480 [==============================] - 0s 167us/step - loss: 0.3107 - accuracy: 0.8521\n",
      "Epoch 87/100\n",
      "480/480 [==============================] - 0s 173us/step - loss: 0.3103 - accuracy: 0.8521\n",
      "Epoch 88/100\n",
      "480/480 [==============================] - 0s 158us/step - loss: 0.3100 - accuracy: 0.8521\n",
      "Epoch 89/100\n",
      "480/480 [==============================] - 0s 164us/step - loss: 0.3097 - accuracy: 0.8521\n",
      "Epoch 90/100\n",
      "480/480 [==============================] - 0s 169us/step - loss: 0.3093 - accuracy: 0.8562\n",
      "Epoch 91/100\n",
      "480/480 [==============================] - 0s 179us/step - loss: 0.3089 - accuracy: 0.8521\n",
      "Epoch 92/100\n",
      "480/480 [==============================] - 0s 160us/step - loss: 0.3085 - accuracy: 0.8521\n",
      "Epoch 93/100\n",
      "480/480 [==============================] - 0s 158us/step - loss: 0.3083 - accuracy: 0.8562\n",
      "Epoch 94/100\n",
      "480/480 [==============================] - 0s 173us/step - loss: 0.3079 - accuracy: 0.8583\n",
      "Epoch 95/100\n",
      "480/480 [==============================] - 0s 164us/step - loss: 0.3076 - accuracy: 0.8583\n",
      "Epoch 96/100\n",
      "480/480 [==============================] - 0s 162us/step - loss: 0.3073 - accuracy: 0.8583\n",
      "Epoch 97/100\n",
      "480/480 [==============================] - 0s 160us/step - loss: 0.3070 - accuracy: 0.8583\n",
      "Epoch 98/100\n",
      "480/480 [==============================] - 0s 171us/step - loss: 0.3066 - accuracy: 0.8583\n",
      "Epoch 99/100\n",
      "480/480 [==============================] - 0s 183us/step - loss: 0.3064 - accuracy: 0.8583\n",
      "Epoch 100/100\n",
      "480/480 [==============================] - 0s 185us/step - loss: 0.3061 - accuracy: 0.8583\n"
     ]
    },
    {
     "data": {
      "text/plain": [
       "<keras.callbacks.callbacks.History at 0x17c14460bc8>"
      ]
     },
     "execution_count": 17,
     "metadata": {},
     "output_type": "execute_result"
    }
   ],
   "source": [
    "# Fitting the ANN to the Training set\n",
    "cnn.fit(X_train, y_train, batch_size = 10, nb_epoch = 100)"
   ]
  },
  {
   "cell_type": "code",
   "execution_count": 18,
   "metadata": {},
   "outputs": [],
   "source": [
    "# Predicting the Test set results\n",
    "y_pred = cnn.predict(X_test)\n",
    "y_pred = (y_pred > 0.5)"
   ]
  },
  {
   "cell_type": "code",
   "execution_count": 19,
   "metadata": {},
   "outputs": [
    {
     "name": "stdout",
     "output_type": "stream",
     "text": [
      "[[55 11]\n",
      " [ 3 51]]\n"
     ]
    }
   ],
   "source": [
    "# Making the Confusion Matrix\n",
    "from sklearn.metrics import confusion_matrix\n",
    "cm = confusion_matrix(y_test, y_pred)\n",
    "print(cm)"
   ]
  },
  {
   "cell_type": "code",
   "execution_count": 20,
   "metadata": {},
   "outputs": [
    {
     "name": "stderr",
     "output_type": "stream",
     "text": [
      "'c' argument looks like a single numeric RGB or RGBA sequence, which should be avoided as value-mapping will have precedence in case its length matches with 'x' & 'y'.  Please use a 2-D array with a single row if you really want to specify the same RGB or RGBA value for all points.\n",
      "'c' argument looks like a single numeric RGB or RGBA sequence, which should be avoided as value-mapping will have precedence in case its length matches with 'x' & 'y'.  Please use a 2-D array with a single row if you really want to specify the same RGB or RGBA value for all points.\n"
     ]
    },
    {
     "data": {
      "image/png": "[encoded data removed]",
      "text/plain": [
       "<Figure size 432x288 with 1 Axes>"
      ]
     },
     "metadata": {
      "needs_background": "light"
     },
     "output_type": "display_data"
    }
   ],
   "source": [
    "# Visualising the Test set results\n",
    "from matplotlib.colors import ListedColormap\n",
    "X_set, y_set = X_test, y_test\n",
    "X1, X2 = np.meshgrid(np.arange(start = X_set[:, 0].min() - 1, stop = X_set[:, 0].max() + 1, step = 0.01),\n",
    "                     np.arange(start = X_set[:, 1].min() - 1, stop = X_set[:, 1].max() + 1, step = 0.01))\n",
    "plt.contourf(X1, X2, cnn.predict(np.array([X1.ravel(), X2.ravel()]).T).reshape(X1.shape),\n",
    "             alpha = 0.75, cmap = ListedColormap(('red', 'green')))\n",
    "plt.xlim(X1.min(), X1.max())\n",
    "plt.ylim(X2.min(), X2.max())\n",
    "for i, j in enumerate(np.unique(y_set)):\n",
    "    plt.scatter(X_set[y_set == j, 0], X_set[y_set == j, 1],\n",
    "                c = ListedColormap(('red', 'green'))(i), label = j)\n",
    "plt.title('NN (Test set)')\n",
    "plt.xlabel('Age')\n",
    "plt.ylabel('Income')\n",
    "plt.legend()\n",
    "plt.show()"
   ]
  }
 ],
 "metadata": {
  "kernelspec": {
   "display_name": "Python 3",
   "language": "python",
   "name": "python3"
  },
  "language_info": {
   "codemirror_mode": {
    "name": "ipython",
    "version": 3
   },
   "file_extension": ".py",
   "mimetype": "text/x-python",
   "name": "python",
   "nbconvert_exporter": "python",
   "pygments_lexer": "ipython3",
   "version": "3.7.6"
  }
 },
 "nbformat": 4,
 "nbformat_minor": 4
}
