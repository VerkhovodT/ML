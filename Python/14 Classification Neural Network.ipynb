{
 "cells": [
  {
   "cell_type": "code",
   "execution_count": 7,
   "metadata": {},
   "outputs": [],
   "source": [
    "# Classification Neural Network"
   ]
  },
  {
   "cell_type": "code",
   "execution_count": 2,
   "metadata": {},
   "outputs": [],
   "source": [
    "# Importing the libraries\n",
    "import numpy as np\n",
    "import matplotlib.pyplot as plt\n",
    "import pandas as pd"
   ]
  },
  {
   "cell_type": "code",
   "execution_count": null,
   "metadata": {},
   "outputs": [],
   "source": [
    "# Importing prepared dataset\n",
    "import pickle\n",
    "input = open('data.pkl', 'rb')\n",
    "obj = pickle.load(input)\n",
    "input.close()"
   ]
  },
  {
   "cell_type": "code",
   "execution_count": 6,
   "metadata": {},
   "outputs": [
    {
     "name": "stderr",
     "output_type": "stream",
     "text": [
      "Using TensorFlow backend.\n",
      "C:\\Users\\User\\anaconda3\\lib\\site-packages\\tensorflow\\python\\framework\\dtypes.py:516: FutureWarning: Passing (type, 1) or '1type' as a synonym of type is deprecated; in a future version of numpy, it will be understood as (type, (1,)) / '(1,)type'.\n",
      "  _np_qint8 = np.dtype([(\"qint8\", np.int8, 1)])\n",
      "C:\\Users\\User\\anaconda3\\lib\\site-packages\\tensorflow\\python\\framework\\dtypes.py:517: FutureWarning: Passing (type, 1) or '1type' as a synonym of type is deprecated; in a future version of numpy, it will be understood as (type, (1,)) / '(1,)type'.\n",
      "  _np_quint8 = np.dtype([(\"quint8\", np.uint8, 1)])\n",
      "C:\\Users\\User\\anaconda3\\lib\\site-packages\\tensorflow\\python\\framework\\dtypes.py:518: FutureWarning: Passing (type, 1) or '1type' as a synonym of type is deprecated; in a future version of numpy, it will be understood as (type, (1,)) / '(1,)type'.\n",
      "  _np_qint16 = np.dtype([(\"qint16\", np.int16, 1)])\n",
      "C:\\Users\\User\\anaconda3\\lib\\site-packages\\tensorflow\\python\\framework\\dtypes.py:519: FutureWarning: Passing (type, 1) or '1type' as a synonym of type is deprecated; in a future version of numpy, it will be understood as (type, (1,)) / '(1,)type'.\n",
      "  _np_quint16 = np.dtype([(\"quint16\", np.uint16, 1)])\n",
      "C:\\Users\\User\\anaconda3\\lib\\site-packages\\tensorflow\\python\\framework\\dtypes.py:520: FutureWarning: Passing (type, 1) or '1type' as a synonym of type is deprecated; in a future version of numpy, it will be understood as (type, (1,)) / '(1,)type'.\n",
      "  _np_qint32 = np.dtype([(\"qint32\", np.int32, 1)])\n",
      "C:\\Users\\User\\anaconda3\\lib\\site-packages\\tensorflow\\python\\framework\\dtypes.py:525: FutureWarning: Passing (type, 1) or '1type' as a synonym of type is deprecated; in a future version of numpy, it will be understood as (type, (1,)) / '(1,)type'.\n",
      "  np_resource = np.dtype([(\"resource\", np.ubyte, 1)])\n",
      "C:\\Users\\User\\anaconda3\\lib\\site-packages\\tensorboard\\compat\\tensorflow_stub\\dtypes.py:541: FutureWarning: Passing (type, 1) or '1type' as a synonym of type is deprecated; in a future version of numpy, it will be understood as (type, (1,)) / '(1,)type'.\n",
      "  _np_qint8 = np.dtype([(\"qint8\", np.int8, 1)])\n",
      "C:\\Users\\User\\anaconda3\\lib\\site-packages\\tensorboard\\compat\\tensorflow_stub\\dtypes.py:542: FutureWarning: Passing (type, 1) or '1type' as a synonym of type is deprecated; in a future version of numpy, it will be understood as (type, (1,)) / '(1,)type'.\n",
      "  _np_quint8 = np.dtype([(\"quint8\", np.uint8, 1)])\n",
      "C:\\Users\\User\\anaconda3\\lib\\site-packages\\tensorboard\\compat\\tensorflow_stub\\dtypes.py:543: FutureWarning: Passing (type, 1) or '1type' as a synonym of type is deprecated; in a future version of numpy, it will be understood as (type, (1,)) / '(1,)type'.\n",
      "  _np_qint16 = np.dtype([(\"qint16\", np.int16, 1)])\n",
      "C:\\Users\\User\\anaconda3\\lib\\site-packages\\tensorboard\\compat\\tensorflow_stub\\dtypes.py:544: FutureWarning: Passing (type, 1) or '1type' as a synonym of type is deprecated; in a future version of numpy, it will be understood as (type, (1,)) / '(1,)type'.\n",
      "  _np_quint16 = np.dtype([(\"quint16\", np.uint16, 1)])\n",
      "C:\\Users\\User\\anaconda3\\lib\\site-packages\\tensorboard\\compat\\tensorflow_stub\\dtypes.py:545: FutureWarning: Passing (type, 1) or '1type' as a synonym of type is deprecated; in a future version of numpy, it will be understood as (type, (1,)) / '(1,)type'.\n",
      "  _np_qint32 = np.dtype([(\"qint32\", np.int32, 1)])\n",
      "C:\\Users\\User\\anaconda3\\lib\\site-packages\\tensorboard\\compat\\tensorflow_stub\\dtypes.py:550: FutureWarning: Passing (type, 1) or '1type' as a synonym of type is deprecated; in a future version of numpy, it will be understood as (type, (1,)) / '(1,)type'.\n",
      "  np_resource = np.dtype([(\"resource\", np.ubyte, 1)])\n"
     ]
    }
   ],
   "source": [
    "# Install Tensorflow\n",
    "# Install Keras\n",
    "# Importing the Keras libraries and packages\n",
    "import keras\n",
    "from keras.models import Sequential\n",
    "from keras.layers import Dense"
   ]
  },
  {
   "cell_type": "code",
   "execution_count": 14,
   "metadata": {},
   "outputs": [
    {
     "name": "stderr",
     "output_type": "stream",
     "text": [
      "C:\\Users\\User\\anaconda3\\lib\\site-packages\\ipykernel_launcher.py:5: UserWarning: Update your `Dense` call to the Keras 2 API: `Dense(activation=\"relu\", input_dim=2, units=6, kernel_initializer=\"uniform\")`\n",
      "  \"\"\"\n",
      "C:\\Users\\User\\anaconda3\\lib\\site-packages\\ipykernel_launcher.py:8: UserWarning: Update your `Dense` call to the Keras 2 API: `Dense(activation=\"sigmoid\", units=6, kernel_initializer=\"uniform\")`\n",
      "  \n",
      "C:\\Users\\User\\anaconda3\\lib\\site-packages\\ipykernel_launcher.py:11: UserWarning: Update your `Dense` call to the Keras 2 API: `Dense(activation=\"sigmoid\", units=1, kernel_initializer=\"uniform\")`\n",
      "  # This is added back by InteractiveShellApp.init_path()\n"
     ]
    }
   ],
   "source": [
    "# Initialising the ANN\n",
    "scnn = Sequential()\n",
    "\n",
    "# Adding the input layer and the first hidden layer\n",
    "scnn.add(Dense(output_dim = 6, init = 'uniform', activation = 'relu', input_dim = 2))\n",
    "\n",
    "# Adding the second hidden layer\n",
    "scnn.add(Dense(output_dim = 6, init = 'uniform', activation = 'sigmoid'))\n",
    "\n",
    "# Adding the output layer\n",
    "scnn.add(Dense(output_dim = 1, init = 'uniform', activation = 'sigmoid'))\n",
    "\n",
    "# Compiling the ANN\n",
    "scnn.compile(optimizer = 'adam', loss = 'binary_crossentropy', metrics = ['accuracy'])"
   ]
  },
  {
   "cell_type": "code",
   "execution_count": 16,
   "metadata": {},
   "outputs": [
    {
     "name": "stderr",
     "output_type": "stream",
     "text": [
      "C:\\Users\\User\\anaconda3\\lib\\site-packages\\ipykernel_launcher.py:2: UserWarning: The `nb_epoch` argument in `fit` has been renamed `epochs`.\n",
      "  \n"
     ]
    },
    {
     "name": "stdout",
     "output_type": "stream",
     "text": [
      "Epoch 1/100\n",
      "480/480 [==============================] - 0s 416us/step - loss: 0.6932 - accuracy: 0.5042\n",
      "Epoch 2/100\n",
      "480/480 [==============================] - 0s 98us/step - loss: 0.6921 - accuracy: 0.5167\n",
      "Epoch 3/100\n",
      "480/480 [==============================] - 0s 96us/step - loss: 0.6892 - accuracy: 0.5167\n",
      "Epoch 4/100\n",
      "480/480 [==============================] - 0s 96us/step - loss: 0.6813 - accuracy: 0.6292\n",
      "Epoch 5/100\n",
      "480/480 [==============================] - 0s 96us/step - loss: 0.6624 - accuracy: 0.8000\n",
      "Epoch 6/100\n",
      "480/480 [==============================] - 0s 96us/step - loss: 0.6294 - accuracy: 0.8354\n",
      "Epoch 7/100\n",
      "480/480 [==============================] - 0s 110us/step - loss: 0.5889 - accuracy: 0.8396\n",
      "Epoch 8/100\n",
      "480/480 [==============================] - 0s 98us/step - loss: 0.5495 - accuracy: 0.8417\n",
      "Epoch 9/100\n",
      "480/480 [==============================] - 0s 100us/step - loss: 0.5160 - accuracy: 0.8417\n",
      "Epoch 10/100\n",
      "480/480 [==============================] - 0s 106us/step - loss: 0.4881 - accuracy: 0.8479\n",
      "Epoch 11/100\n",
      "480/480 [==============================] - 0s 98us/step - loss: 0.4659 - accuracy: 0.8458\n",
      "Epoch 12/100\n",
      "480/480 [==============================] - 0s 96us/step - loss: 0.4473 - accuracy: 0.8479\n",
      "Epoch 13/100\n",
      "480/480 [==============================] - 0s 100us/step - loss: 0.4323 - accuracy: 0.8521\n",
      "Epoch 14/100\n",
      "480/480 [==============================] - 0s 98us/step - loss: 0.4193 - accuracy: 0.8542\n",
      "Epoch 15/100\n",
      "480/480 [==============================] - 0s 94us/step - loss: 0.4085 - accuracy: 0.8542\n",
      "Epoch 16/100\n",
      "480/480 [==============================] - 0s 98us/step - loss: 0.3992 - accuracy: 0.8521\n",
      "Epoch 17/100\n",
      "480/480 [==============================] - 0s 106us/step - loss: 0.3913 - accuracy: 0.8500\n",
      "Epoch 18/100\n",
      "480/480 [==============================] - 0s 117us/step - loss: 0.3844 - accuracy: 0.8521\n",
      "Epoch 19/100\n",
      "480/480 [==============================] - 0s 119us/step - loss: 0.3780 - accuracy: 0.8562\n",
      "Epoch 20/100\n",
      "480/480 [==============================] - 0s 106us/step - loss: 0.3726 - accuracy: 0.8542\n",
      "Epoch 21/100\n",
      "480/480 [==============================] - 0s 106us/step - loss: 0.3679 - accuracy: 0.8562\n",
      "Epoch 22/100\n",
      "480/480 [==============================] - 0s 108us/step - loss: 0.3634 - accuracy: 0.8562\n",
      "Epoch 23/100\n",
      "480/480 [==============================] - 0s 98us/step - loss: 0.3596 - accuracy: 0.8562\n",
      "Epoch 24/100\n",
      "480/480 [==============================] - 0s 98us/step - loss: 0.3559 - accuracy: 0.8562\n",
      "Epoch 25/100\n",
      "480/480 [==============================] - 0s 92us/step - loss: 0.3526 - accuracy: 0.8562\n",
      "Epoch 26/100\n",
      "480/480 [==============================] - 0s 98us/step - loss: 0.3493 - accuracy: 0.8521\n",
      "Epoch 27/100\n",
      "480/480 [==============================] - 0s 96us/step - loss: 0.3477 - accuracy: 0.8542\n",
      "Epoch 28/100\n",
      "480/480 [==============================] - 0s 100us/step - loss: 0.3444 - accuracy: 0.8542\n",
      "Epoch 29/100\n",
      "480/480 [==============================] - 0s 110us/step - loss: 0.3419 - accuracy: 0.8521\n",
      "Epoch 30/100\n",
      "480/480 [==============================] - 0s 104us/step - loss: 0.3397 - accuracy: 0.8562\n",
      "Epoch 31/100\n",
      "480/480 [==============================] - 0s 110us/step - loss: 0.3376 - accuracy: 0.8521\n",
      "Epoch 32/100\n",
      "480/480 [==============================] - 0s 104us/step - loss: 0.3359 - accuracy: 0.8521\n",
      "Epoch 33/100\n",
      "480/480 [==============================] - 0s 108us/step - loss: 0.3342 - accuracy: 0.8521\n",
      "Epoch 34/100\n",
      "480/480 [==============================] - 0s 100us/step - loss: 0.3326 - accuracy: 0.8521\n",
      "Epoch 35/100\n",
      "480/480 [==============================] - 0s 96us/step - loss: 0.3312 - accuracy: 0.8521\n",
      "Epoch 36/100\n",
      "480/480 [==============================] - 0s 98us/step - loss: 0.3299 - accuracy: 0.8521\n",
      "Epoch 37/100\n",
      "480/480 [==============================] - 0s 112us/step - loss: 0.3287 - accuracy: 0.8521\n",
      "Epoch 38/100\n",
      "480/480 [==============================] - 0s 119us/step - loss: 0.3280 - accuracy: 0.8521\n",
      "Epoch 39/100\n",
      "480/480 [==============================] - 0s 108us/step - loss: 0.3270 - accuracy: 0.8521\n",
      "Epoch 40/100\n",
      "480/480 [==============================] - 0s 123us/step - loss: 0.3253 - accuracy: 0.8521\n",
      "Epoch 41/100\n",
      "480/480 [==============================] - 0s 100us/step - loss: 0.3251 - accuracy: 0.8542\n",
      "Epoch 42/100\n",
      "480/480 [==============================] - 0s 94us/step - loss: 0.3237 - accuracy: 0.8521\n",
      "Epoch 43/100\n",
      "480/480 [==============================] - 0s 102us/step - loss: 0.3230 - accuracy: 0.8521\n",
      "Epoch 44/100\n",
      "480/480 [==============================] - 0s 102us/step - loss: 0.3225 - accuracy: 0.8521\n",
      "Epoch 45/100\n",
      "480/480 [==============================] - 0s 96us/step - loss: 0.3216 - accuracy: 0.8521\n",
      "Epoch 46/100\n",
      "480/480 [==============================] - 0s 94us/step - loss: 0.3211 - accuracy: 0.8521\n",
      "Epoch 47/100\n",
      "480/480 [==============================] - 0s 102us/step - loss: 0.3203 - accuracy: 0.8521\n",
      "Epoch 48/100\n",
      "480/480 [==============================] - 0s 96us/step - loss: 0.3194 - accuracy: 0.8521\n",
      "Epoch 49/100\n",
      "480/480 [==============================] - 0s 94us/step - loss: 0.3191 - accuracy: 0.8521\n",
      "Epoch 50/100\n",
      "480/480 [==============================] - 0s 102us/step - loss: 0.3182 - accuracy: 0.8521\n",
      "Epoch 51/100\n",
      "480/480 [==============================] - 0s 117us/step - loss: 0.3178 - accuracy: 0.8521\n",
      "Epoch 52/100\n",
      "480/480 [==============================] - 0s 100us/step - loss: 0.3175 - accuracy: 0.8521\n",
      "Epoch 53/100\n",
      "480/480 [==============================] - 0s 106us/step - loss: 0.3169 - accuracy: 0.8521\n",
      "Epoch 54/100\n",
      "480/480 [==============================] - 0s 102us/step - loss: 0.3161 - accuracy: 0.8521\n",
      "Epoch 55/100\n",
      "480/480 [==============================] - 0s 102us/step - loss: 0.3156 - accuracy: 0.8521\n",
      "Epoch 56/100\n",
      "480/480 [==============================] - 0s 104us/step - loss: 0.3158 - accuracy: 0.8521\n",
      "Epoch 57/100\n",
      "480/480 [==============================] - 0s 104us/step - loss: 0.3151 - accuracy: 0.8521\n",
      "Epoch 58/100\n",
      "480/480 [==============================] - 0s 92us/step - loss: 0.3150 - accuracy: 0.8521\n",
      "Epoch 59/100\n",
      "480/480 [==============================] - 0s 92us/step - loss: 0.3141 - accuracy: 0.8521\n",
      "Epoch 60/100\n",
      "480/480 [==============================] - 0s 87us/step - loss: 0.3141 - accuracy: 0.8521\n",
      "Epoch 61/100\n",
      "480/480 [==============================] - 0s 87us/step - loss: 0.3135 - accuracy: 0.8521\n",
      "Epoch 62/100\n",
      "480/480 [==============================] - 0s 90us/step - loss: 0.3131 - accuracy: 0.8521\n",
      "Epoch 63/100\n",
      "480/480 [==============================] - 0s 98us/step - loss: 0.3128 - accuracy: 0.8521\n",
      "Epoch 64/100\n",
      "480/480 [==============================] - 0s 87us/step - loss: 0.3123 - accuracy: 0.8521\n",
      "Epoch 65/100\n",
      "480/480 [==============================] - 0s 94us/step - loss: 0.3122 - accuracy: 0.8521\n",
      "Epoch 66/100\n",
      "480/480 [==============================] - 0s 87us/step - loss: 0.3119 - accuracy: 0.8542\n",
      "Epoch 67/100\n",
      "480/480 [==============================] - 0s 90us/step - loss: 0.3116 - accuracy: 0.8521\n",
      "Epoch 68/100\n",
      "480/480 [==============================] - 0s 87us/step - loss: 0.3115 - accuracy: 0.8521\n",
      "Epoch 69/100\n",
      "480/480 [==============================] - 0s 90us/step - loss: 0.3111 - accuracy: 0.8521\n",
      "Epoch 70/100\n",
      "480/480 [==============================] - 0s 119us/step - loss: 0.3107 - accuracy: 0.8562\n",
      "Epoch 71/100\n",
      "480/480 [==============================] - 0s 115us/step - loss: 0.3101 - accuracy: 0.8521\n",
      "Epoch 72/100\n",
      "480/480 [==============================] - 0s 102us/step - loss: 0.3098 - accuracy: 0.8521\n",
      "Epoch 73/100\n",
      "480/480 [==============================] - 0s 98us/step - loss: 0.3096 - accuracy: 0.8521\n",
      "Epoch 74/100\n",
      "480/480 [==============================] - 0s 98us/step - loss: 0.3096 - accuracy: 0.8542\n",
      "Epoch 75/100\n",
      "480/480 [==============================] - 0s 104us/step - loss: 0.3099 - accuracy: 0.8521\n",
      "Epoch 76/100\n",
      "480/480 [==============================] - 0s 102us/step - loss: 0.3092 - accuracy: 0.8521\n",
      "Epoch 77/100\n",
      "480/480 [==============================] - 0s 92us/step - loss: 0.3091 - accuracy: 0.8542\n",
      "Epoch 78/100\n",
      "480/480 [==============================] - 0s 90us/step - loss: 0.3085 - accuracy: 0.8521\n",
      "Epoch 79/100\n",
      "480/480 [==============================] - 0s 92us/step - loss: 0.3084 - accuracy: 0.8521\n",
      "Epoch 80/100\n",
      "480/480 [==============================] - 0s 98us/step - loss: 0.3079 - accuracy: 0.8521\n",
      "Epoch 81/100\n",
      "480/480 [==============================] - 0s 104us/step - loss: 0.3081 - accuracy: 0.8542\n",
      "Epoch 82/100\n",
      "480/480 [==============================] - 0s 100us/step - loss: 0.3085 - accuracy: 0.8521\n",
      "Epoch 83/100\n",
      "480/480 [==============================] - 0s 98us/step - loss: 0.3076 - accuracy: 0.8542\n",
      "Epoch 84/100\n",
      "480/480 [==============================] - 0s 96us/step - loss: 0.3075 - accuracy: 0.8542\n",
      "Epoch 85/100\n",
      "480/480 [==============================] - 0s 102us/step - loss: 0.3070 - accuracy: 0.8542\n",
      "Epoch 86/100\n",
      "480/480 [==============================] - 0s 102us/step - loss: 0.3067 - accuracy: 0.8521\n",
      "Epoch 87/100\n",
      "480/480 [==============================] - 0s 98us/step - loss: 0.3069 - accuracy: 0.8521\n",
      "Epoch 88/100\n",
      "480/480 [==============================] - 0s 96us/step - loss: 0.3065 - accuracy: 0.8521\n",
      "Epoch 89/100\n",
      "480/480 [==============================] - 0s 100us/step - loss: 0.3068 - accuracy: 0.8521\n",
      "Epoch 90/100\n",
      "480/480 [==============================] - 0s 106us/step - loss: 0.3062 - accuracy: 0.8562\n",
      "Epoch 91/100\n",
      "480/480 [==============================] - 0s 96us/step - loss: 0.3063 - accuracy: 0.8521\n",
      "Epoch 92/100\n",
      "480/480 [==============================] - 0s 90us/step - loss: 0.3059 - accuracy: 0.8521\n",
      "Epoch 93/100\n",
      "480/480 [==============================] - 0s 94us/step - loss: 0.3061 - accuracy: 0.8521\n",
      "Epoch 94/100\n",
      "480/480 [==============================] - 0s 98us/step - loss: 0.3056 - accuracy: 0.8500\n",
      "Epoch 95/100\n",
      "480/480 [==============================] - 0s 102us/step - loss: 0.3055 - accuracy: 0.8521\n",
      "Epoch 96/100\n",
      "480/480 [==============================] - 0s 98us/step - loss: 0.3054 - accuracy: 0.8521\n",
      "Epoch 97/100\n",
      "480/480 [==============================] - 0s 102us/step - loss: 0.3055 - accuracy: 0.8521\n",
      "Epoch 98/100\n",
      "480/480 [==============================] - 0s 102us/step - loss: 0.3049 - accuracy: 0.8542\n",
      "Epoch 99/100\n",
      "480/480 [==============================] - 0s 108us/step - loss: 0.3051 - accuracy: 0.8521\n",
      "Epoch 100/100\n",
      "480/480 [==============================] - 0s 233us/step - loss: 0.3049 - accuracy: 0.8521\n"
     ]
    },
    {
     "data": {
      "text/plain": [
       "<keras.callbacks.callbacks.History at 0x1e19ed48b08>"
      ]
     },
     "execution_count": 16,
     "metadata": {},
     "output_type": "execute_result"
    }
   ],
   "source": [
    "# Fitting the ANN to the Training set\n",
    "scnn.fit(X_train, y_train, batch_size = 10, nb_epoch = 100)"
   ]
  },
  {
   "cell_type": "code",
   "execution_count": 17,
   "metadata": {},
   "outputs": [],
   "source": [
    "# Predicting the Test set results\n",
    "y_pred = scnn.predict(X_test)\n",
    "y_pred = (y_pred > 0.5)"
   ]
  },
  {
   "cell_type": "code",
   "execution_count": 18,
   "metadata": {},
   "outputs": [
    {
     "name": "stdout",
     "output_type": "stream",
     "text": [
      "[[56  7]\n",
      " [ 7 50]]\n"
     ]
    }
   ],
   "source": [
    "# Making the Confusion Matrix\n",
    "from sklearn.metrics import confusion_matrix\n",
    "cm = confusion_matrix(y_test, y_pred)\n",
    "print(cm)"
   ]
  },
  {
   "cell_type": "code",
   "execution_count": 19,
   "metadata": {},
   "outputs": [
    {
     "name": "stderr",
     "output_type": "stream",
     "text": [
      "'c' argument looks like a single numeric RGB or RGBA sequence, which should be avoided as value-mapping will have precedence in case its length matches with 'x' & 'y'.  Please use a 2-D array with a single row if you really want to specify the same RGB or RGBA value for all points.\n",
      "'c' argument looks like a single numeric RGB or RGBA sequence, which should be avoided as value-mapping will have precedence in case its length matches with 'x' & 'y'.  Please use a 2-D array with a single row if you really want to specify the same RGB or RGBA value for all points.\n"
     ]
    },
    {
     "data": {
      "image/png": "[encoded data removed]",
      "text/plain": [
       "<Figure size 432x288 with 1 Axes>"
      ]
     },
     "metadata": {
      "needs_background": "light"
     },
     "output_type": "display_data"
    }
   ],
   "source": [
    "# Visualising the Training set results\n",
    "from matplotlib.colors import ListedColormap\n",
    "X_set, y_set = X_train, y_train\n",
    "X1, X2 = np.meshgrid(np.arange(start = X_set[:, 0].min() - 1, stop = X_set[:, 0].max() + 1, step = 0.01),\n",
    "                     np.arange(start = X_set[:, 1].min() - 1, stop = X_set[:, 1].max() + 1, step = 0.01))\n",
    "plt.contourf(X1, X2, scnn.predict(np.array([X1.ravel(), X2.ravel()]).T).reshape(X1.shape),\n",
    "             alpha = 0.75, cmap = ListedColormap(('red', 'green')))\n",
    "plt.xlim(X1.min(), X1.max())\n",
    "plt.ylim(X2.min(), X2.max())\n",
    "for i, j in enumerate(np.unique(y_set)):\n",
    "    plt.scatter(X_set[y_set == j, 0], X_set[y_set == j, 1],\n",
    "                c = ListedColormap(('red', 'green'))(i), label = j)\n",
    "plt.title('NN (Training set)')\n",
    "plt.xlabel('Age')\n",
    "plt.ylabel('Income')\n",
    "plt.legend()\n",
    "plt.show()"
   ]
  },
  {
   "cell_type": "code",
   "execution_count": 20,
   "metadata": {},
   "outputs": [
    {
     "name": "stderr",
     "output_type": "stream",
     "text": [
      "'c' argument looks like a single numeric RGB or RGBA sequence, which should be avoided as value-mapping will have precedence in case its length matches with 'x' & 'y'.  Please use a 2-D array with a single row if you really want to specify the same RGB or RGBA value for all points.\n",
      "'c' argument looks like a single numeric RGB or RGBA sequence, which should be avoided as value-mapping will have precedence in case its length matches with 'x' & 'y'.  Please use a 2-D array with a single row if you really want to specify the same RGB or RGBA value for all points.\n"
     ]
    },
    {
     "data": {
      "image/png": "[encoded data removed]",
      "text/plain": [
       "<Figure size 432x288 with 1 Axes>"
      ]
     },
     "metadata": {
      "needs_background": "light"
     },
     "output_type": "display_data"
    }
   ],
   "source": [
    "# Visualising the Test set results\n",
    "from matplotlib.colors import ListedColormap\n",
    "X_set, y_set = X_test, y_test\n",
    "X1, X2 = np.meshgrid(np.arange(start = X_set[:, 0].min() - 1, stop = X_set[:, 0].max() + 1, step = 0.01),\n",
    "                     np.arange(start = X_set[:, 1].min() - 1, stop = X_set[:, 1].max() + 1, step = 0.01))\n",
    "plt.contourf(X1, X2, scnn.predict(np.array([X1.ravel(), X2.ravel()]).T).reshape(X1.shape),\n",
    "             alpha = 0.75, cmap = ListedColormap(('red', 'green')))\n",
    "plt.xlim(X1.min(), X1.max())\n",
    "plt.ylim(X2.min(), X2.max())\n",
    "for i, j in enumerate(np.unique(y_set)):\n",
    "    plt.scatter(X_set[y_set == j, 0], X_set[y_set == j, 1],\n",
    "                c = ListedColormap(('red', 'green'))(i), label = j)\n",
    "plt.title('NN (Test set)')\n",
    "plt.xlabel('Age')\n",
    "plt.ylabel('Income')\n",
    "plt.legend()\n",
    "plt.show()"
   ]
  }
 ],
 "metadata": {
  "kernelspec": {
   "display_name": "Python 3",
   "language": "python",
   "name": "python3"
  },
  "language_info": {
   "codemirror_mode": {
    "name": "ipython",
    "version": 3
   },
   "file_extension": ".py",
   "mimetype": "text/x-python",
   "name": "python",
   "nbconvert_exporter": "python",
   "pygments_lexer": "ipython3",
   "version": "3.7.6"
  }
 },
 "nbformat": 4,
 "nbformat_minor": 4
}
