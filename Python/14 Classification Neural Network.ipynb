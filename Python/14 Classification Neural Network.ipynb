{
 "cells": [
  {
   "cell_type": "code",
   "execution_count": 7,
   "metadata": {},
   "outputs": [],
   "source": [
    "# Classification Neural Network"
   ]
  },
  {
   "cell_type": "code",
   "execution_count": 3,
   "metadata": {},
   "outputs": [],
   "source": [
    "# Importing the libraries\n",
    "import numpy as np\n",
    "import matplotlib.pyplot as plt\n",
    "import pandas as pd"
   ]
  },
  {
   "cell_type": "code",
   "execution_count": 4,
   "metadata": {},
   "outputs": [],
   "source": [
    "# Importing prepared dataset\n",
    "import pickle\n",
    "input = open('data.pkl', 'rb')\n",
    "obj = pickle.load(input)\n",
    "input.close()\n",
    "X_train = obj[\"X_train\"]\n",
    "X_test = obj[\"X_test\"]\n",
    "y_train = obj[\"y_train\"]\n",
    "y_test = obj[\"y_test\"]"
   ]
  },
  {
   "cell_type": "code",
   "execution_count": 5,
   "metadata": {},
   "outputs": [
    {
     "name": "stderr",
     "output_type": "stream",
     "text": [
      "Using TensorFlow backend.\n",
      "C:\\Users\\kater\\anaconda3\\lib\\site-packages\\tensorflow\\python\\framework\\dtypes.py:516: FutureWarning: Passing (type, 1) or '1type' as a synonym of type is deprecated; in a future version of numpy, it will be understood as (type, (1,)) / '(1,)type'.\n",
      "  _np_qint8 = np.dtype([(\"qint8\", np.int8, 1)])\n",
      "C:\\Users\\kater\\anaconda3\\lib\\site-packages\\tensorflow\\python\\framework\\dtypes.py:517: FutureWarning: Passing (type, 1) or '1type' as a synonym of type is deprecated; in a future version of numpy, it will be understood as (type, (1,)) / '(1,)type'.\n",
      "  _np_quint8 = np.dtype([(\"quint8\", np.uint8, 1)])\n",
      "C:\\Users\\kater\\anaconda3\\lib\\site-packages\\tensorflow\\python\\framework\\dtypes.py:518: FutureWarning: Passing (type, 1) or '1type' as a synonym of type is deprecated; in a future version of numpy, it will be understood as (type, (1,)) / '(1,)type'.\n",
      "  _np_qint16 = np.dtype([(\"qint16\", np.int16, 1)])\n",
      "C:\\Users\\kater\\anaconda3\\lib\\site-packages\\tensorflow\\python\\framework\\dtypes.py:519: FutureWarning: Passing (type, 1) or '1type' as a synonym of type is deprecated; in a future version of numpy, it will be understood as (type, (1,)) / '(1,)type'.\n",
      "  _np_quint16 = np.dtype([(\"quint16\", np.uint16, 1)])\n",
      "C:\\Users\\kater\\anaconda3\\lib\\site-packages\\tensorflow\\python\\framework\\dtypes.py:520: FutureWarning: Passing (type, 1) or '1type' as a synonym of type is deprecated; in a future version of numpy, it will be understood as (type, (1,)) / '(1,)type'.\n",
      "  _np_qint32 = np.dtype([(\"qint32\", np.int32, 1)])\n",
      "C:\\Users\\kater\\anaconda3\\lib\\site-packages\\tensorflow\\python\\framework\\dtypes.py:525: FutureWarning: Passing (type, 1) or '1type' as a synonym of type is deprecated; in a future version of numpy, it will be understood as (type, (1,)) / '(1,)type'.\n",
      "  np_resource = np.dtype([(\"resource\", np.ubyte, 1)])\n",
      "C:\\Users\\kater\\anaconda3\\lib\\site-packages\\tensorboard\\compat\\tensorflow_stub\\dtypes.py:541: FutureWarning: Passing (type, 1) or '1type' as a synonym of type is deprecated; in a future version of numpy, it will be understood as (type, (1,)) / '(1,)type'.\n",
      "  _np_qint8 = np.dtype([(\"qint8\", np.int8, 1)])\n",
      "C:\\Users\\kater\\anaconda3\\lib\\site-packages\\tensorboard\\compat\\tensorflow_stub\\dtypes.py:542: FutureWarning: Passing (type, 1) or '1type' as a synonym of type is deprecated; in a future version of numpy, it will be understood as (type, (1,)) / '(1,)type'.\n",
      "  _np_quint8 = np.dtype([(\"quint8\", np.uint8, 1)])\n",
      "C:\\Users\\kater\\anaconda3\\lib\\site-packages\\tensorboard\\compat\\tensorflow_stub\\dtypes.py:543: FutureWarning: Passing (type, 1) or '1type' as a synonym of type is deprecated; in a future version of numpy, it will be understood as (type, (1,)) / '(1,)type'.\n",
      "  _np_qint16 = np.dtype([(\"qint16\", np.int16, 1)])\n",
      "C:\\Users\\kater\\anaconda3\\lib\\site-packages\\tensorboard\\compat\\tensorflow_stub\\dtypes.py:544: FutureWarning: Passing (type, 1) or '1type' as a synonym of type is deprecated; in a future version of numpy, it will be understood as (type, (1,)) / '(1,)type'.\n",
      "  _np_quint16 = np.dtype([(\"quint16\", np.uint16, 1)])\n",
      "C:\\Users\\kater\\anaconda3\\lib\\site-packages\\tensorboard\\compat\\tensorflow_stub\\dtypes.py:545: FutureWarning: Passing (type, 1) or '1type' as a synonym of type is deprecated; in a future version of numpy, it will be understood as (type, (1,)) / '(1,)type'.\n",
      "  _np_qint32 = np.dtype([(\"qint32\", np.int32, 1)])\n",
      "C:\\Users\\kater\\anaconda3\\lib\\site-packages\\tensorboard\\compat\\tensorflow_stub\\dtypes.py:550: FutureWarning: Passing (type, 1) or '1type' as a synonym of type is deprecated; in a future version of numpy, it will be understood as (type, (1,)) / '(1,)type'.\n",
      "  np_resource = np.dtype([(\"resource\", np.ubyte, 1)])\n"
     ]
    }
   ],
   "source": [
    "# Install Tensorflow\n",
    "# Install Keras\n",
    "# Importing the Keras libraries and packages\n",
    "import keras\n",
    "from keras.models import Sequential\n",
    "from keras.layers import Dense"
   ]
  },
  {
   "cell_type": "code",
   "execution_count": 6,
   "metadata": {},
   "outputs": [
    {
     "name": "stderr",
     "output_type": "stream",
     "text": [
      "C:\\Users\\kater\\anaconda3\\lib\\site-packages\\ipykernel_launcher.py:5: UserWarning: Update your `Dense` call to the Keras 2 API: `Dense(activation=\"relu\", input_dim=2, units=2, kernel_initializer=\"uniform\")`\n",
      "  \"\"\"\n",
      "C:\\Users\\kater\\anaconda3\\lib\\site-packages\\ipykernel_launcher.py:8: UserWarning: Update your `Dense` call to the Keras 2 API: `Dense(activation=\"sigmoid\", units=1, kernel_initializer=\"uniform\")`\n",
      "  \n"
     ]
    },
    {
     "name": "stdout",
     "output_type": "stream",
     "text": [
      "WARNING:tensorflow:From C:\\Users\\kater\\anaconda3\\lib\\site-packages\\tensorflow\\python\\ops\\nn_impl.py:180: add_dispatch_support.<locals>.wrapper (from tensorflow.python.ops.array_ops) is deprecated and will be removed in a future version.\n",
      "Instructions for updating:\n",
      "Use tf.where in 2.0, which has the same broadcast rule as np.where\n"
     ]
    }
   ],
   "source": [
    "# Initialising the ANN\n",
    "scnn = Sequential()\n",
    "\n",
    "# Adding the input layer and the first hidden layer\n",
    "scnn.add(Dense(output_dim = 2, init = 'uniform', activation = 'relu', input_dim = 2))\n",
    "\n",
    "# Adding the output layer\n",
    "scnn.add(Dense(output_dim = 1, init = 'uniform', activation = 'sigmoid'))\n",
    "\n",
    "# Compiling the ANN\n",
    "scnn.compile(optimizer = 'adam', loss = 'binary_crossentropy', metrics = ['accuracy'])"
   ]
  },
  {
   "cell_type": "code",
   "execution_count": 7,
   "metadata": {},
   "outputs": [
    {
     "name": "stderr",
     "output_type": "stream",
     "text": [
      "C:\\Users\\kater\\anaconda3\\lib\\site-packages\\ipykernel_launcher.py:2: UserWarning: The `nb_epoch` argument in `fit` has been renamed `epochs`.\n",
      "  \n"
     ]
    },
    {
     "name": "stdout",
     "output_type": "stream",
     "text": [
      "WARNING:tensorflow:From C:\\Users\\kater\\anaconda3\\lib\\site-packages\\keras\\backend\\tensorflow_backend.py:422: The name tf.global_variables is deprecated. Please use tf.compat.v1.global_variables instead.\n",
      "\n",
      "Epoch 1/100\n",
      "480/480 [==============================] - 0s 698us/step - loss: 0.6926 - accuracy: 0.6229\n",
      "Epoch 2/100\n",
      "480/480 [==============================] - 0s 212us/step - loss: 0.6873 - accuracy: 0.8500\n",
      "Epoch 3/100\n",
      "480/480 [==============================] - 0s 189us/step - loss: 0.6732 - accuracy: 0.8375\n",
      "Epoch 4/100\n",
      "480/480 [==============================] - 0s 185us/step - loss: 0.6508 - accuracy: 0.8396\n",
      "Epoch 5/100\n",
      "480/480 [==============================] - 0s 210us/step - loss: 0.6217 - accuracy: 0.8354\n",
      "Epoch 6/100\n",
      "480/480 [==============================] - 0s 202us/step - loss: 0.5890 - accuracy: 0.8354\n",
      "Epoch 7/100\n",
      "480/480 [==============================] - 0s 202us/step - loss: 0.5550 - accuracy: 0.8333\n",
      "Epoch 8/100\n",
      "480/480 [==============================] - 0s 312us/step - loss: 0.5214 - accuracy: 0.8333\n",
      "Epoch 9/100\n",
      "480/480 [==============================] - 0s 217us/step - loss: 0.4909 - accuracy: 0.8333\n",
      "Epoch 10/100\n",
      "480/480 [==============================] - 0s 217us/step - loss: 0.4632 - accuracy: 0.8354\n",
      "Epoch 11/100\n",
      "480/480 [==============================] - 0s 242us/step - loss: 0.4394 - accuracy: 0.8417\n",
      "Epoch 12/100\n",
      "480/480 [==============================] - 0s 221us/step - loss: 0.4192 - accuracy: 0.8438\n",
      "Epoch 13/100\n",
      "480/480 [==============================] - 0s 233us/step - loss: 0.4023 - accuracy: 0.84380s - loss: 0.4123 - accuracy: 0.\n",
      "Epoch 14/100\n",
      "480/480 [==============================] - 0s 260us/step - loss: 0.3882 - accuracy: 0.8458\n",
      "Epoch 15/100\n",
      "480/480 [==============================] - 0s 254us/step - loss: 0.3763 - accuracy: 0.8458\n",
      "Epoch 16/100\n",
      "480/480 [==============================] - 0s 239us/step - loss: 0.3668 - accuracy: 0.8458\n",
      "Epoch 17/100\n",
      "480/480 [==============================] - 0s 248us/step - loss: 0.3581 - accuracy: 0.8438\n",
      "Epoch 18/100\n",
      "480/480 [==============================] - 0s 262us/step - loss: 0.3510 - accuracy: 0.8458\n",
      "Epoch 19/100\n",
      "480/480 [==============================] - 0s 227us/step - loss: 0.3449 - accuracy: 0.8458\n",
      "Epoch 20/100\n",
      "480/480 [==============================] - 0s 237us/step - loss: 0.3396 - accuracy: 0.8500\n",
      "Epoch 21/100\n",
      "480/480 [==============================] - 0s 244us/step - loss: 0.3348 - accuracy: 0.8479\n",
      "Epoch 22/100\n",
      "480/480 [==============================] - 0s 264us/step - loss: 0.3307 - accuracy: 0.8500\n",
      "Epoch 23/100\n",
      "480/480 [==============================] - 0s 229us/step - loss: 0.3271 - accuracy: 0.8500\n",
      "Epoch 24/100\n",
      "480/480 [==============================] - 0s 227us/step - loss: 0.3237 - accuracy: 0.8521\n",
      "Epoch 25/100\n",
      "480/480 [==============================] - 0s 264us/step - loss: 0.3207 - accuracy: 0.8521\n",
      "Epoch 26/100\n",
      "480/480 [==============================] - ETA: 0s - loss: 0.3296 - accuracy: 0.84 - 0s 252us/step - loss: 0.3182 - accuracy: 0.8542\n",
      "Epoch 27/100\n",
      "480/480 [==============================] - 0s 246us/step - loss: 0.3154 - accuracy: 0.8521\n",
      "Epoch 28/100\n",
      "480/480 [==============================] - 0s 254us/step - loss: 0.3131 - accuracy: 0.8500\n",
      "Epoch 29/100\n",
      "480/480 [==============================] - 0s 248us/step - loss: 0.3110 - accuracy: 0.8521\n",
      "Epoch 30/100\n",
      "480/480 [==============================] - 0s 225us/step - loss: 0.3092 - accuracy: 0.8542\n",
      "Epoch 31/100\n",
      "480/480 [==============================] - 0s 248us/step - loss: 0.3074 - accuracy: 0.8562\n",
      "Epoch 32/100\n",
      "480/480 [==============================] - 0s 233us/step - loss: 0.3060 - accuracy: 0.8562\n",
      "Epoch 33/100\n",
      "480/480 [==============================] - 0s 233us/step - loss: 0.3044 - accuracy: 0.8562\n",
      "Epoch 34/100\n",
      "480/480 [==============================] - 0s 187us/step - loss: 0.3029 - accuracy: 0.8562\n",
      "Epoch 35/100\n",
      "480/480 [==============================] - 0s 179us/step - loss: 0.3015 - accuracy: 0.8562\n",
      "Epoch 36/100\n",
      "480/480 [==============================] - 0s 194us/step - loss: 0.3002 - accuracy: 0.8542\n",
      "Epoch 37/100\n",
      "480/480 [==============================] - 0s 208us/step - loss: 0.2994 - accuracy: 0.8542\n",
      "Epoch 38/100\n",
      "480/480 [==============================] - 0s 192us/step - loss: 0.2980 - accuracy: 0.8562\n",
      "Epoch 39/100\n",
      "480/480 [==============================] - 0s 208us/step - loss: 0.2971 - accuracy: 0.8583\n",
      "Epoch 40/100\n",
      "480/480 [==============================] - 0s 200us/step - loss: 0.2963 - accuracy: 0.8583\n",
      "Epoch 41/100\n",
      "480/480 [==============================] - 0s 200us/step - loss: 0.2955 - accuracy: 0.8604\n",
      "Epoch 42/100\n",
      "480/480 [==============================] - 0s 202us/step - loss: 0.2946 - accuracy: 0.8604\n",
      "Epoch 43/100\n",
      "480/480 [==============================] - 0s 199us/step - loss: 0.2940 - accuracy: 0.8604\n",
      "Epoch 44/100\n",
      "480/480 [==============================] - 0s 200us/step - loss: 0.2931 - accuracy: 0.8583\n",
      "Epoch 45/100\n",
      "480/480 [==============================] - 0s 206us/step - loss: 0.2925 - accuracy: 0.8583\n",
      "Epoch 46/100\n",
      "480/480 [==============================] - 0s 200us/step - loss: 0.2918 - accuracy: 0.8562\n",
      "Epoch 47/100\n",
      "480/480 [==============================] - 0s 190us/step - loss: 0.2911 - accuracy: 0.8562\n",
      "Epoch 48/100\n",
      "480/480 [==============================] - 0s 210us/step - loss: 0.2908 - accuracy: 0.8562\n",
      "Epoch 49/100\n",
      "480/480 [==============================] - 0s 210us/step - loss: 0.2902 - accuracy: 0.8521\n",
      "Epoch 50/100\n",
      "480/480 [==============================] - 0s 203us/step - loss: 0.2897 - accuracy: 0.8521\n",
      "Epoch 51/100\n",
      "480/480 [==============================] - 0s 221us/step - loss: 0.2894 - accuracy: 0.8542\n",
      "Epoch 52/100\n",
      "480/480 [==============================] - 0s 219us/step - loss: 0.2890 - accuracy: 0.8562\n",
      "Epoch 53/100\n",
      "480/480 [==============================] - 0s 189us/step - loss: 0.2886 - accuracy: 0.8562\n",
      "Epoch 54/100\n",
      "480/480 [==============================] - 0s 184us/step - loss: 0.2884 - accuracy: 0.8562\n",
      "Epoch 55/100\n",
      "480/480 [==============================] - 0s 185us/step - loss: 0.2880 - accuracy: 0.8542\n",
      "Epoch 56/100\n",
      "480/480 [==============================] - 0s 190us/step - loss: 0.2880 - accuracy: 0.8542\n",
      "Epoch 57/100\n",
      "480/480 [==============================] - 0s 210us/step - loss: 0.2877 - accuracy: 0.8562\n",
      "Epoch 58/100\n",
      "480/480 [==============================] - 0s 217us/step - loss: 0.2877 - accuracy: 0.8542\n",
      "Epoch 59/100\n",
      "480/480 [==============================] - 0s 194us/step - loss: 0.2872 - accuracy: 0.8542\n",
      "Epoch 60/100\n",
      "480/480 [==============================] - 0s 204us/step - loss: 0.2871 - accuracy: 0.8542\n",
      "Epoch 61/100\n",
      "480/480 [==============================] - 0s 185us/step - loss: 0.2874 - accuracy: 0.8542\n",
      "Epoch 62/100\n",
      "480/480 [==============================] - 0s 187us/step - loss: 0.2867 - accuracy: 0.8542\n",
      "Epoch 63/100\n",
      "480/480 [==============================] - 0s 189us/step - loss: 0.2869 - accuracy: 0.8542\n",
      "Epoch 64/100\n",
      "480/480 [==============================] - 0s 183us/step - loss: 0.2866 - accuracy: 0.8521\n",
      "Epoch 65/100\n",
      "480/480 [==============================] - 0s 200us/step - loss: 0.2864 - accuracy: 0.8562\n",
      "Epoch 66/100\n",
      "480/480 [==============================] - 0s 190us/step - loss: 0.2864 - accuracy: 0.8521\n",
      "Epoch 67/100\n",
      "480/480 [==============================] - 0s 181us/step - loss: 0.2862 - accuracy: 0.8542\n",
      "Epoch 68/100\n",
      "480/480 [==============================] - 0s 189us/step - loss: 0.2861 - accuracy: 0.8542\n",
      "Epoch 69/100\n",
      "480/480 [==============================] - 0s 177us/step - loss: 0.2862 - accuracy: 0.8542\n",
      "Epoch 70/100\n",
      "480/480 [==============================] - 0s 187us/step - loss: 0.2860 - accuracy: 0.8542\n",
      "Epoch 71/100\n",
      "480/480 [==============================] - 0s 187us/step - loss: 0.2859 - accuracy: 0.8542\n",
      "Epoch 72/100\n",
      "480/480 [==============================] - 0s 200us/step - loss: 0.2858 - accuracy: 0.8542\n",
      "Epoch 73/100\n",
      "480/480 [==============================] - 0s 192us/step - loss: 0.2858 - accuracy: 0.8542\n",
      "Epoch 74/100\n",
      "480/480 [==============================] - 0s 198us/step - loss: 0.2857 - accuracy: 0.8542\n",
      "Epoch 75/100\n",
      "480/480 [==============================] - 0s 185us/step - loss: 0.2857 - accuracy: 0.8542\n",
      "Epoch 76/100\n",
      "480/480 [==============================] - 0s 177us/step - loss: 0.2856 - accuracy: 0.8542\n",
      "Epoch 77/100\n"
     ]
    },
    {
     "name": "stdout",
     "output_type": "stream",
     "text": [
      "480/480 [==============================] - 0s 192us/step - loss: 0.2856 - accuracy: 0.8542\n",
      "Epoch 78/100\n",
      "480/480 [==============================] - 0s 171us/step - loss: 0.2856 - accuracy: 0.8542\n",
      "Epoch 79/100\n",
      "480/480 [==============================] - 0s 175us/step - loss: 0.2856 - accuracy: 0.8542\n",
      "Epoch 80/100\n",
      "480/480 [==============================] - 0s 169us/step - loss: 0.2853 - accuracy: 0.8542\n",
      "Epoch 81/100\n",
      "480/480 [==============================] - 0s 177us/step - loss: 0.2854 - accuracy: 0.8542\n",
      "Epoch 82/100\n",
      "480/480 [==============================] - 0s 194us/step - loss: 0.2853 - accuracy: 0.8542\n",
      "Epoch 83/100\n",
      "480/480 [==============================] - 0s 173us/step - loss: 0.2852 - accuracy: 0.8542\n",
      "Epoch 84/100\n",
      "480/480 [==============================] - 0s 173us/step - loss: 0.2853 - accuracy: 0.8542\n",
      "Epoch 85/100\n",
      "480/480 [==============================] - 0s 175us/step - loss: 0.2853 - accuracy: 0.8542\n",
      "Epoch 86/100\n",
      "480/480 [==============================] - 0s 169us/step - loss: 0.2850 - accuracy: 0.8542\n",
      "Epoch 87/100\n",
      "480/480 [==============================] - 0s 169us/step - loss: 0.2852 - accuracy: 0.8542\n",
      "Epoch 88/100\n",
      "480/480 [==============================] - 0s 171us/step - loss: 0.2851 - accuracy: 0.8542\n",
      "Epoch 89/100\n",
      "480/480 [==============================] - 0s 175us/step - loss: 0.2850 - accuracy: 0.8542\n",
      "Epoch 90/100\n",
      "480/480 [==============================] - 0s 177us/step - loss: 0.2849 - accuracy: 0.8542\n",
      "Epoch 91/100\n",
      "480/480 [==============================] - 0s 171us/step - loss: 0.2850 - accuracy: 0.8542\n",
      "Epoch 92/100\n",
      "480/480 [==============================] - 0s 171us/step - loss: 0.2851 - accuracy: 0.8542\n",
      "Epoch 93/100\n",
      "480/480 [==============================] - 0s 164us/step - loss: 0.2849 - accuracy: 0.8542\n",
      "Epoch 94/100\n",
      "480/480 [==============================] - 0s 173us/step - loss: 0.2850 - accuracy: 0.8542\n",
      "Epoch 95/100\n",
      "480/480 [==============================] - 0s 180us/step - loss: 0.2849 - accuracy: 0.8542\n",
      "Epoch 96/100\n",
      "480/480 [==============================] - 0s 173us/step - loss: 0.2848 - accuracy: 0.8542\n",
      "Epoch 97/100\n",
      "480/480 [==============================] - 0s 173us/step - loss: 0.2848 - accuracy: 0.8542\n",
      "Epoch 98/100\n",
      "480/480 [==============================] - 0s 185us/step - loss: 0.2849 - accuracy: 0.8542\n",
      "Epoch 99/100\n",
      "480/480 [==============================] - 0s 167us/step - loss: 0.2851 - accuracy: 0.8542\n",
      "Epoch 100/100\n",
      "480/480 [==============================] - 0s 169us/step - loss: 0.2848 - accuracy: 0.8542\n"
     ]
    },
    {
     "data": {
      "text/plain": [
       "<keras.callbacks.callbacks.History at 0x17c1198ee48>"
      ]
     },
     "execution_count": 7,
     "metadata": {},
     "output_type": "execute_result"
    }
   ],
   "source": [
    "# Fitting the ANN to the Training set\n",
    "scnn.fit(X_train, y_train, batch_size = 10, nb_epoch = 100)"
   ]
  },
  {
   "cell_type": "code",
   "execution_count": 8,
   "metadata": {},
   "outputs": [],
   "source": [
    "# Predicting the Test set results\n",
    "y_pred = scnn.predict(X_test)\n",
    "y_pred = (y_pred > 0.5)"
   ]
  },
  {
   "cell_type": "code",
   "execution_count": 9,
   "metadata": {},
   "outputs": [
    {
     "name": "stdout",
     "output_type": "stream",
     "text": [
      "[[55 11]\n",
      " [ 4 50]]\n"
     ]
    }
   ],
   "source": [
    "# Making the Confusion Matrix\n",
    "from sklearn.metrics import confusion_matrix\n",
    "cm = confusion_matrix(y_test, y_pred)\n",
    "print(cm)"
   ]
  },
  {
   "cell_type": "code",
   "execution_count": 10,
   "metadata": {},
   "outputs": [
    {
     "name": "stderr",
     "output_type": "stream",
     "text": [
      "'c' argument looks like a single numeric RGB or RGBA sequence, which should be avoided as value-mapping will have precedence in case its length matches with 'x' & 'y'.  Please use a 2-D array with a single row if you really want to specify the same RGB or RGBA value for all points.\n",
      "'c' argument looks like a single numeric RGB or RGBA sequence, which should be avoided as value-mapping will have precedence in case its length matches with 'x' & 'y'.  Please use a 2-D array with a single row if you really want to specify the same RGB or RGBA value for all points.\n"
     ]
    },
    {
     "data": {
      "image/png": "[encoded data removed]",
      "text/plain": [
       "<Figure size 432x288 with 1 Axes>"
      ]
     },
     "metadata": {
      "needs_background": "light"
     },
     "output_type": "display_data"
    }
   ],
   "source": [
    "# Visualising the Training set results\n",
    "from matplotlib.colors import ListedColormap\n",
    "X_set, y_set = X_train, y_train\n",
    "X1, X2 = np.meshgrid(np.arange(start = X_set[:, 0].min() - 1, stop = X_set[:, 0].max() + 1, step = 0.01),\n",
    "                     np.arange(start = X_set[:, 1].min() - 1, stop = X_set[:, 1].max() + 1, step = 0.01))\n",
    "plt.contourf(X1, X2, scnn.predict(np.array([X1.ravel(), X2.ravel()]).T).reshape(X1.shape),\n",
    "             alpha = 0.75, cmap = ListedColormap(('red', 'green')))\n",
    "plt.xlim(X1.min(), X1.max())\n",
    "plt.ylim(X2.min(), X2.max())\n",
    "for i, j in enumerate(np.unique(y_set)):\n",
    "    plt.scatter(X_set[y_set == j, 0], X_set[y_set == j, 1],\n",
    "                c = ListedColormap(('red', 'green'))(i), label = j)\n",
    "plt.title('NN (Training set)')\n",
    "plt.xlabel('Age')\n",
    "plt.ylabel('Income')\n",
    "plt.legend()\n",
    "plt.show()"
   ]
  },
  {
   "cell_type": "code",
   "execution_count": 11,
   "metadata": {},
   "outputs": [
    {
     "name": "stderr",
     "output_type": "stream",
     "text": [
      "'c' argument looks like a single numeric RGB or RGBA sequence, which should be avoided as value-mapping will have precedence in case its length matches with 'x' & 'y'.  Please use a 2-D array with a single row if you really want to specify the same RGB or RGBA value for all points.\n",
      "'c' argument looks like a single numeric RGB or RGBA sequence, which should be avoided as value-mapping will have precedence in case its length matches with 'x' & 'y'.  Please use a 2-D array with a single row if you really want to specify the same RGB or RGBA value for all points.\n"
     ]
    },
    {
     "data": {
      "image/png": "[encoded data removed]",
      "text/plain": [
       "<Figure size 432x288 with 1 Axes>"
      ]
     },
     "metadata": {
      "needs_background": "light"
     },
     "output_type": "display_data"
    }
   ],
   "source": [
    "# Visualising the Test set results\n",
    "from matplotlib.colors import ListedColormap\n",
    "X_set, y_set = X_test, y_test\n",
    "X1, X2 = np.meshgrid(np.arange(start = X_set[:, 0].min() - 1, stop = X_set[:, 0].max() + 1, step = 0.01),\n",
    "                     np.arange(start = X_set[:, 1].min() - 1, stop = X_set[:, 1].max() + 1, step = 0.01))\n",
    "plt.contourf(X1, X2, scnn.predict(np.array([X1.ravel(), X2.ravel()]).T).reshape(X1.shape),\n",
    "             alpha = 0.75, cmap = ListedColormap(('red', 'green')))\n",
    "plt.xlim(X1.min(), X1.max())\n",
    "plt.ylim(X2.min(), X2.max())\n",
    "for i, j in enumerate(np.unique(y_set)):\n",
    "    plt.scatter(X_set[y_set == j, 0], X_set[y_set == j, 1],\n",
    "                c = ListedColormap(('red', 'green'))(i), label = j)\n",
    "plt.title('NN (Test set)')\n",
    "plt.xlabel('Age')\n",
    "plt.ylabel('Income')\n",
    "plt.legend()\n",
    "plt.show()"
   ]
  }
 ],
 "metadata": {
  "kernelspec": {
   "display_name": "Python 3",
   "language": "python",
   "name": "python3"
  },
  "language_info": {
   "codemirror_mode": {
    "name": "ipython",
    "version": 3
   },
   "file_extension": ".py",
   "mimetype": "text/x-python",
   "name": "python",
   "nbconvert_exporter": "python",
   "pygments_lexer": "ipython3",
   "version": "3.7.6"
  }
 },
 "nbformat": 4,
 "nbformat_minor": 4
}
